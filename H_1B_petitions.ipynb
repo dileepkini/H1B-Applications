{
 "cells": [
  {
   "cell_type": "code",
   "execution_count": 1,
   "metadata": {
    "ExecuteTime": {
     "end_time": "2019-04-11T00:35:52.259812Z",
     "start_time": "2019-04-11T00:35:49.342103Z"
    },
    "collapsed": true
   },
   "outputs": [],
   "source": [
    "import pandas as pd\n",
    "import numpy as np\n",
    "import string\n",
    "from collections import Counter\n",
    "import matplotlib.pyplot as plt\n",
    "import geopandas as gpd\n",
    "from shapely.geometry import Point, Polygon\n",
    "from matplotlib import cm\n",
    "%matplotlib inline\n",
    "\n",
    "pd.options.display.float_format = '{:.2f}'.format"
   ]
  },
  {
   "cell_type": "markdown",
   "metadata": {},
   "source": [
    "- which companies have the most applications for data scientists\n",
    "- how do data scientist salaries compare to the rest of the applicants\n",
    "- how do data scientst salaries compare to the the rest of the Data jobs\n",
    "- has applicants for data scientist evolved over time\n",
    "    - in absolute numbers\n",
    "    - and in comparison to the market, i.e, percentage of jobs that are data related\n",
    "- Location: Where are most data scientists located (Place and State)"
   ]
  },
  {
   "cell_type": "code",
   "execution_count": 2,
   "metadata": {
    "ExecuteTime": {
     "end_time": "2019-04-11T00:36:13.348903Z",
     "start_time": "2019-04-11T00:35:52.263551Z"
    }
   },
   "outputs": [
    {
     "name": "stderr",
     "output_type": "stream",
     "text": [
      "/Users/dileepkini/miniconda3/envs/pt36/lib/python3.6/site-packages/numpy/lib/arraysetops.py:463: FutureWarning: elementwise comparison failed; returning scalar instead, but in the future will perform elementwise comparison\n",
      "  mask |= (ar1 == a)\n"
     ]
    }
   ],
   "source": [
    "df = pd.read_csv('./h1b_kaggle.csv', index_col=0)"
   ]
  },
  {
   "cell_type": "markdown",
   "metadata": {},
   "source": [
    "### Data Preparation\n",
    "- are there any null/nan values?\n",
    "- should we restrict the applications to the ones that have been certified? \n",
    "- how do we identify data related jobs?\n",
    "    - For the sake of simplicity we shall assume that any job title that contains 'data' as a substring is a data  job. What are the different forms in which the word \"data\" appears in a job title?\n",
    "    - similarly we assume that any job title that contains 'data scien' to be a data scientist-ish jobs. This is a subset of data jobs.\n",
    "- extract state from the location column"
   ]
  },
  {
   "cell_type": "code",
   "execution_count": 3,
   "metadata": {
    "ExecuteTime": {
     "end_time": "2019-04-11T00:36:13.369083Z",
     "start_time": "2019-04-11T00:36:13.353307Z"
    }
   },
   "outputs": [
    {
     "data": {
      "text/plain": [
       "(3002458, 10)"
      ]
     },
     "execution_count": 3,
     "metadata": {},
     "output_type": "execute_result"
    }
   ],
   "source": [
    "df.shape"
   ]
  },
  {
   "cell_type": "code",
   "execution_count": 4,
   "metadata": {
    "ExecuteTime": {
     "end_time": "2019-04-11T00:36:16.963715Z",
     "start_time": "2019-04-11T00:36:13.374707Z"
    }
   },
   "outputs": [
    {
     "data": {
      "text/plain": [
       "CASE_STATUS               13\n",
       "EMPLOYER_NAME             59\n",
       "SOC_NAME               17734\n",
       "JOB_TITLE                 43\n",
       "FULL_TIME_POSITION        15\n",
       "PREVAILING_WAGE           85\n",
       "YEAR                      13\n",
       "WORKSITE                   0\n",
       "lon                   107242\n",
       "lat                   107242\n",
       "dtype: int64"
      ]
     },
     "execution_count": 4,
     "metadata": {},
     "output_type": "execute_result"
    }
   ],
   "source": [
    "df.isnull().sum()"
   ]
  },
  {
   "cell_type": "markdown",
   "metadata": {},
   "source": [
    "- As we can see above some of the columns contain null values. But we will not be dropping any data because we won't be applying any modeling to answer our questions.\n",
    "\n",
    "Next we look to derive relevant information from the existing columns:\n",
    "- Use the JOB_TITLE column to infer whether the job falls in the data domain, and more specifically if it is a data science position\n",
    "- extract the State from the WORKSITE column\n",
    "- figure out whether an application is certified or not from the CASE_STATUS columns"
   ]
  },
  {
   "cell_type": "code",
   "execution_count": 5,
   "metadata": {
    "ExecuteTime": {
     "end_time": "2019-04-11T00:36:17.002265Z",
     "start_time": "2019-04-11T00:36:16.972026Z"
    },
    "collapsed": true
   },
   "outputs": [],
   "source": [
    "translator = str.maketrans(string.punctuation, ' '*len(string.punctuation))"
   ]
  },
  {
   "cell_type": "code",
   "execution_count": 6,
   "metadata": {
    "ExecuteTime": {
     "end_time": "2019-04-11T00:36:32.807273Z",
     "start_time": "2019-04-11T00:36:17.045281Z"
    },
    "collapsed": true
   },
   "outputs": [],
   "source": [
    "df['title'] = df['JOB_TITLE'].astype(str).str.lower().apply(lambda _: _.translate(translator))"
   ]
  },
  {
   "cell_type": "code",
   "execution_count": 7,
   "metadata": {
    "ExecuteTime": {
     "end_time": "2019-04-11T00:36:36.853500Z",
     "start_time": "2019-04-11T00:36:32.811557Z"
    },
    "collapsed": true
   },
   "outputs": [],
   "source": [
    "df['is_data_related'] = df['title'].apply(lambda _: ('data' in _))\n",
    "df['is_data_science'] = df['title'].apply(lambda _: ('data scien' in _))"
   ]
  },
  {
   "cell_type": "code",
   "execution_count": 8,
   "metadata": {
    "ExecuteTime": {
     "end_time": "2019-04-11T00:36:52.714234Z",
     "start_time": "2019-04-11T00:36:36.858781Z"
    },
    "collapsed": true
   },
   "outputs": [],
   "source": [
    "df['state'] = df['WORKSITE'].str.split(', ').apply(lambda _: _[-1])"
   ]
  },
  {
   "cell_type": "code",
   "execution_count": 9,
   "metadata": {
    "ExecuteTime": {
     "end_time": "2019-04-11T00:37:00.657368Z",
     "start_time": "2019-04-11T00:36:52.750276Z"
    },
    "collapsed": true
   },
   "outputs": [],
   "source": [
    "data_words = list([_ for lst in df[df.is_data_related]['title'].str.split().values for _ in lst if 'data' in _])"
   ]
  },
  {
   "cell_type": "code",
   "execution_count": 10,
   "metadata": {
    "ExecuteTime": {
     "end_time": "2019-04-11T00:37:00.750446Z",
     "start_time": "2019-04-11T00:37:00.670998Z"
    },
    "scrolled": true
   },
   "outputs": [
    {
     "data": {
      "text/plain": [
       "[('database', 34873),\n",
       " ('data', 29870),\n",
       " ('datastage', 644),\n",
       " ('teradata', 492),\n",
       " ('datawarehouse', 354),\n",
       " ('datapower', 66),\n",
       " ('datawarehousing', 55),\n",
       " ('databases', 33),\n",
       " ('metadata', 29),\n",
       " ('databse', 27),\n",
       " ('datacenter', 23),\n",
       " ('dataware', 20),\n",
       " ('bigdata', 19),\n",
       " ('datasets', 9),\n",
       " ('aiddata', 8),\n",
       " ('medidata', 8),\n",
       " ('exadata', 8),\n",
       " ('teredata', 6),\n",
       " ('terradata', 5),\n",
       " ('datacom', 5)]"
      ]
     },
     "execution_count": 10,
     "metadata": {},
     "output_type": "execute_result"
    }
   ],
   "source": [
    "Counter(data_words).most_common(20)"
   ]
  },
  {
   "cell_type": "code",
   "execution_count": 11,
   "metadata": {
    "ExecuteTime": {
     "end_time": "2019-04-11T00:37:01.305795Z",
     "start_time": "2019-04-11T00:37:00.765654Z"
    },
    "collapsed": true
   },
   "outputs": [],
   "source": [
    "df['is_cert'] = df.CASE_STATUS.isin(['CERTIFIED', 'CERTIFIED-WITHDRAWN'])"
   ]
  },
  {
   "cell_type": "markdown",
   "metadata": {},
   "source": [
    "- we only choose to retain those applications which are certified. Denied applications contain incorrect/missing information and are therefore rejected by USCIS"
   ]
  },
  {
   "cell_type": "code",
   "execution_count": 12,
   "metadata": {
    "ExecuteTime": {
     "end_time": "2019-04-11T00:37:07.313119Z",
     "start_time": "2019-04-11T00:37:01.320603Z"
    },
    "collapsed": true
   },
   "outputs": [],
   "source": [
    "df = df[df.is_cert].copy()"
   ]
  },
  {
   "cell_type": "markdown",
   "metadata": {},
   "source": [
    "### Number of jobs in the data domain."
   ]
  },
  {
   "cell_type": "code",
   "execution_count": 13,
   "metadata": {
    "ExecuteTime": {
     "end_time": "2019-04-11T00:37:07.633954Z",
     "start_time": "2019-04-11T00:37:07.340225Z"
    }
   },
   "outputs": [
    {
     "data": {
      "text/plain": [
       "False    2755513\n",
       "True       62769\n",
       "Name: is_data_related, dtype: int64"
      ]
     },
     "execution_count": 13,
     "metadata": {},
     "output_type": "execute_result"
    }
   ],
   "source": [
    "df.is_data_related.value_counts()"
   ]
  },
  {
   "cell_type": "code",
   "execution_count": 14,
   "metadata": {
    "ExecuteTime": {
     "end_time": "2019-04-11T00:37:07.788905Z",
     "start_time": "2019-04-11T00:37:07.644344Z"
    }
   },
   "outputs": [
    {
     "data": {
      "text/plain": [
       "False   0.98\n",
       "True    0.02\n",
       "Name: is_data_related, dtype: float64"
      ]
     },
     "execution_count": 14,
     "metadata": {},
     "output_type": "execute_result"
    }
   ],
   "source": [
    "df.is_data_related.value_counts()/df.shape[0]"
   ]
  },
  {
   "cell_type": "markdown",
   "metadata": {},
   "source": [
    "### Employers"
   ]
  },
  {
   "cell_type": "code",
   "execution_count": 15,
   "metadata": {
    "ExecuteTime": {
     "end_time": "2019-04-11T00:37:08.147383Z",
     "start_time": "2019-04-11T00:37:07.817102Z"
    }
   },
   "outputs": [
    {
     "data": {
      "text/plain": [
       "TATA CONSULTANCY SERVICES LIMITED    3479\n",
       "CAPGEMINI AMERICA INC                1043\n",
       "WIPRO LIMITED                         965\n",
       "IBM INDIA PRIVATE LIMITED             730\n",
       "ECLINICALWORKS, LLC                   490\n",
       "INFOLOB SOLUTIONS, INC.               445\n",
       "FUJITSU AMERICA, INC.                 409\n",
       "CAPITAL ONE SERVICES, LLC             390\n",
       "AMAZON CORPORATE LLC                  374\n",
       "SREE INFOTECH LLC                     352\n",
       "TECH MAHINDRA (AMERICAS),INC.         339\n",
       "TEK SERVICES LLC                      275\n",
       "FACEBOOK, INC.                        269\n",
       "LARSEN & TOUBRO INFOTECH LIMITED      251\n",
       "MICROSOFT CORPORATION                 250\n",
       "JPMORGAN CHASE & CO.                  234\n",
       "ADS ALLIANCE DATA SYSTEMS, INC.       211\n",
       "POPULUS GROUP                         207\n",
       "SIRI INFOSOLUTIONS INC.               207\n",
       "IGATE TECHNOLOGIES INC.               198\n",
       "Name: EMPLOYER_NAME, dtype: int64"
      ]
     },
     "execution_count": 15,
     "metadata": {},
     "output_type": "execute_result"
    }
   ],
   "source": [
    "data_employers = df[df.is_data_related].EMPLOYER_NAME.value_counts()\n",
    "data_employers.sort_values(ascending=False)[:20]"
   ]
  },
  {
   "cell_type": "code",
   "execution_count": 16,
   "metadata": {
    "ExecuteTime": {
     "end_time": "2019-04-11T00:37:08.341089Z",
     "start_time": "2019-04-11T00:37:08.156727Z"
    }
   },
   "outputs": [
    {
     "data": {
      "text/plain": [
       "False    2814913\n",
       "True        3369\n",
       "Name: is_data_science, dtype: int64"
      ]
     },
     "execution_count": 16,
     "metadata": {},
     "output_type": "execute_result"
    }
   ],
   "source": [
    "df.is_data_science.value_counts()"
   ]
  },
  {
   "cell_type": "markdown",
   "metadata": {},
   "source": [
    "#### What fraction of all data related applications is made up by data science positions?\n",
    "- turns out 5% of all jobs in the data domain are"
   ]
  },
  {
   "cell_type": "code",
   "execution_count": 17,
   "metadata": {
    "ExecuteTime": {
     "end_time": "2019-04-11T00:37:08.742576Z",
     "start_time": "2019-04-11T00:37:08.355642Z"
    }
   },
   "outputs": [
    {
     "data": {
      "text/plain": [
       "False   0.95\n",
       "True    0.05\n",
       "Name: is_data_science, dtype: float64"
      ]
     },
     "execution_count": 17,
     "metadata": {},
     "output_type": "execute_result"
    }
   ],
   "source": [
    "df[df.is_data_related].is_data_science.value_counts()/df.is_data_related.sum()"
   ]
  },
  {
   "cell_type": "markdown",
   "metadata": {},
   "source": [
    "#### Which employers petition for the most data scientists?\n",
    "- Some very large and well known tech companies"
   ]
  },
  {
   "cell_type": "code",
   "execution_count": 18,
   "metadata": {
    "ExecuteTime": {
     "end_time": "2019-04-11T00:37:08.841766Z",
     "start_time": "2019-04-11T00:37:08.751527Z"
    },
    "scrolled": true
   },
   "outputs": [
    {
     "data": {
      "text/plain": [
       "MICROSOFT CORPORATION            188\n",
       "FACEBOOK, INC.                   119\n",
       "LINKEDIN CORPORATION              90\n",
       "UBER TECHNOLOGIES, INC.           57\n",
       "TWITTER, INC.                     54\n",
       "WAL-MART ASSOCIATES, INC.         46\n",
       "NETFLIX, INC.                     34\n",
       "GROUPON, INC.                     30\n",
       "PAYPAL, INC.                      28\n",
       "APPLE INC.                        26\n",
       "IBM CORPORATION                   26\n",
       "EMC CORPORATION                   23\n",
       "AIRBNB, INC.                      23\n",
       "CAPITAL ONE SERVICES, LLC         21\n",
       "AGILONE, INC.                     19\n",
       "GSR TECHNOLOGIES INC.             19\n",
       "AIG PC GLOBAL SERVICES, INC.      17\n",
       "THE NIELSEN COMPANY (US), LLC     16\n",
       "MONSANTO COMPANY                  16\n",
       "EBAY INC.                         16\n",
       "Name: EMPLOYER_NAME, dtype: int64"
      ]
     },
     "execution_count": 18,
     "metadata": {},
     "output_type": "execute_result"
    }
   ],
   "source": [
    "data_science_employers = df[df.is_data_science].EMPLOYER_NAME.value_counts()\n",
    "data_science_employers.sort_values(ascending=False)[:20]"
   ]
  },
  {
   "cell_type": "markdown",
   "metadata": {},
   "source": [
    "#### Among companies that hire at least 100 data related jobs, what fraction of those are data scientists"
   ]
  },
  {
   "cell_type": "code",
   "execution_count": 19,
   "metadata": {
    "ExecuteTime": {
     "end_time": "2019-04-11T00:37:09.036676Z",
     "start_time": "2019-04-11T00:37:08.850949Z"
    },
    "collapsed": true
   },
   "outputs": [],
   "source": [
    "data_employer_df = pd.concat([data_employers, data_science_employers], axis=1)\n",
    "data_employer_df.columns = ['all_data','data_science']\n",
    "data_employer_df = data_employer_df.fillna(0).astype(int)\n",
    "data_employer_df['data_science_pct'] = data_employer_df['data_science'] * 100 / data_employer_df['all_data']"
   ]
  },
  {
   "cell_type": "code",
   "execution_count": 20,
   "metadata": {
    "ExecuteTime": {
     "end_time": "2019-04-11T00:37:09.166517Z",
     "start_time": "2019-04-11T00:37:09.040986Z"
    },
    "scrolled": true
   },
   "outputs": [
    {
     "data": {
      "text/html": [
       "<div>\n",
       "<style>\n",
       "    .dataframe thead tr:only-child th {\n",
       "        text-align: right;\n",
       "    }\n",
       "\n",
       "    .dataframe thead th {\n",
       "        text-align: left;\n",
       "    }\n",
       "\n",
       "    .dataframe tbody tr th {\n",
       "        vertical-align: top;\n",
       "    }\n",
       "</style>\n",
       "<table border=\"1\" class=\"dataframe\">\n",
       "  <thead>\n",
       "    <tr style=\"text-align: right;\">\n",
       "      <th></th>\n",
       "      <th>all_data</th>\n",
       "      <th>data_science</th>\n",
       "      <th>data_science_pct</th>\n",
       "    </tr>\n",
       "  </thead>\n",
       "  <tbody>\n",
       "    <tr>\n",
       "      <th>MICROSOFT CORPORATION</th>\n",
       "      <td>250</td>\n",
       "      <td>188</td>\n",
       "      <td>75.20</td>\n",
       "    </tr>\n",
       "    <tr>\n",
       "      <th>LINKEDIN CORPORATION</th>\n",
       "      <td>160</td>\n",
       "      <td>90</td>\n",
       "      <td>56.25</td>\n",
       "    </tr>\n",
       "    <tr>\n",
       "      <th>FACEBOOK, INC.</th>\n",
       "      <td>269</td>\n",
       "      <td>119</td>\n",
       "      <td>44.24</td>\n",
       "    </tr>\n",
       "    <tr>\n",
       "      <th>PAYPAL, INC.</th>\n",
       "      <td>104</td>\n",
       "      <td>28</td>\n",
       "      <td>26.92</td>\n",
       "    </tr>\n",
       "    <tr>\n",
       "      <th>APPLE INC.</th>\n",
       "      <td>126</td>\n",
       "      <td>26</td>\n",
       "      <td>20.63</td>\n",
       "    </tr>\n",
       "    <tr>\n",
       "      <th>INTUIT INC.</th>\n",
       "      <td>124</td>\n",
       "      <td>12</td>\n",
       "      <td>9.68</td>\n",
       "    </tr>\n",
       "    <tr>\n",
       "      <th>SALESFORCE.COM, INC.</th>\n",
       "      <td>101</td>\n",
       "      <td>9</td>\n",
       "      <td>8.91</td>\n",
       "    </tr>\n",
       "    <tr>\n",
       "      <th>CAPITAL ONE, NATIONAL ASSOCIATION</th>\n",
       "      <td>138</td>\n",
       "      <td>11</td>\n",
       "      <td>7.97</td>\n",
       "    </tr>\n",
       "    <tr>\n",
       "      <th>ACCENTURE LLP</th>\n",
       "      <td>124</td>\n",
       "      <td>8</td>\n",
       "      <td>6.45</td>\n",
       "    </tr>\n",
       "    <tr>\n",
       "      <th>JPMORGAN CHASE &amp; CO.</th>\n",
       "      <td>234</td>\n",
       "      <td>13</td>\n",
       "      <td>5.56</td>\n",
       "    </tr>\n",
       "    <tr>\n",
       "      <th>EXPEDIA, INC.</th>\n",
       "      <td>128</td>\n",
       "      <td>7</td>\n",
       "      <td>5.47</td>\n",
       "    </tr>\n",
       "    <tr>\n",
       "      <th>CAPITAL ONE SERVICES, LLC</th>\n",
       "      <td>390</td>\n",
       "      <td>21</td>\n",
       "      <td>5.38</td>\n",
       "    </tr>\n",
       "    <tr>\n",
       "      <th>ADS ALLIANCE DATA SYSTEMS, INC.</th>\n",
       "      <td>211</td>\n",
       "      <td>7</td>\n",
       "      <td>3.32</td>\n",
       "    </tr>\n",
       "    <tr>\n",
       "      <th>YAHOO! INC.</th>\n",
       "      <td>115</td>\n",
       "      <td>2</td>\n",
       "      <td>1.74</td>\n",
       "    </tr>\n",
       "    <tr>\n",
       "      <th>ECLINICALWORKS, LLC</th>\n",
       "      <td>490</td>\n",
       "      <td>2</td>\n",
       "      <td>0.41</td>\n",
       "    </tr>\n",
       "    <tr>\n",
       "      <th>IBM INDIA PRIVATE LIMITED</th>\n",
       "      <td>730</td>\n",
       "      <td>1</td>\n",
       "      <td>0.14</td>\n",
       "    </tr>\n",
       "  </tbody>\n",
       "</table>\n",
       "</div>"
      ],
      "text/plain": [
       "                                   all_data  data_science  data_science_pct\n",
       "MICROSOFT CORPORATION                   250           188             75.20\n",
       "LINKEDIN CORPORATION                    160            90             56.25\n",
       "FACEBOOK, INC.                          269           119             44.24\n",
       "PAYPAL, INC.                            104            28             26.92\n",
       "APPLE INC.                              126            26             20.63\n",
       "INTUIT INC.                             124            12              9.68\n",
       "SALESFORCE.COM, INC.                    101             9              8.91\n",
       "CAPITAL ONE, NATIONAL ASSOCIATION       138            11              7.97\n",
       "ACCENTURE LLP                           124             8              6.45\n",
       "JPMORGAN CHASE & CO.                    234            13              5.56\n",
       "EXPEDIA, INC.                           128             7              5.47\n",
       "CAPITAL ONE SERVICES, LLC               390            21              5.38\n",
       "ADS ALLIANCE DATA SYSTEMS, INC.         211             7              3.32\n",
       "YAHOO! INC.                             115             2              1.74\n",
       "ECLINICALWORKS, LLC                     490             2              0.41\n",
       "IBM INDIA PRIVATE LIMITED               730             1              0.14"
      ]
     },
     "execution_count": 20,
     "metadata": {},
     "output_type": "execute_result"
    }
   ],
   "source": [
    "data_employer_df[(data_employer_df.all_data >= 100) & (data_employer_df.data_science > 0)].sort_values('data_science_pct', ascending=False)"
   ]
  },
  {
   "cell_type": "markdown",
   "metadata": {
    "ExecuteTime": {
     "end_time": "2019-04-07T21:13:28.005267Z",
     "start_time": "2019-04-07T21:13:27.999199Z"
    }
   },
   "source": [
    "### Q: Have data science H-1B applications increased over time?\n",
    "there are several subuestions here:\n",
    "1. Have job applications in the data domain increased over time?\n",
    "2. Have applicants in the data domain grown faster than the overall pool of H-1B applications?\n",
    "3. Have visa applications for data science jobs increased over time?\n",
    "4. Have the number of data science applications grown faster compared to the pool of data related applications?"
   ]
  },
  {
   "cell_type": "code",
   "execution_count": 21,
   "metadata": {
    "ExecuteTime": {
     "end_time": "2019-04-11T00:37:10.059796Z",
     "start_time": "2019-04-11T00:37:09.183289Z"
    },
    "collapsed": true
   },
   "outputs": [],
   "source": [
    "data_by_year = df.groupby('YEAR').agg({'is_data_related':'sum', 'is_data_science':'sum', 'JOB_TITLE':'count'}).astype(int)\n",
    "data_by_year.index = data_by_year.index.astype(int)\n",
    "data_by_year = data_by_year.rename(columns={'JOB_TITLE':'total'})\n",
    "data_by_year['data_science_pct'] = data_by_year['is_data_science']"
   ]
  },
  {
   "cell_type": "code",
   "execution_count": 22,
   "metadata": {
    "ExecuteTime": {
     "end_time": "2019-04-11T00:37:10.778475Z",
     "start_time": "2019-04-11T00:37:10.067555Z"
    }
   },
   "outputs": [
    {
     "data": {
      "image/png": "[encoded data removed]",
      "text/plain": [
       "<Figure size 432x288 with 1 Axes>"
      ]
     },
     "metadata": {},
     "output_type": "display_data"
    }
   ],
   "source": [
    "(data_by_year['is_data_related']).plot(kind='bar', title='All Data Jobs');"
   ]
  },
  {
   "cell_type": "code",
   "execution_count": 23,
   "metadata": {
    "ExecuteTime": {
     "end_time": "2019-04-11T00:37:11.838031Z",
     "start_time": "2019-04-11T00:37:10.783630Z"
    }
   },
   "outputs": [
    {
     "data": {
      "image/png": "[encoded data removed]",
      "text/plain": [
       "<Figure size 432x288 with 1 Axes>"
      ]
     },
     "metadata": {},
     "output_type": "display_data"
    }
   ],
   "source": [
    "(data_by_year['is_data_related']/data_by_year['total']).plot(kind='bar', title='All Data Jobs Percentage');"
   ]
  },
  {
   "cell_type": "code",
   "execution_count": 24,
   "metadata": {
    "ExecuteTime": {
     "end_time": "2019-04-11T00:37:12.512169Z",
     "start_time": "2019-04-11T00:37:11.855844Z"
    }
   },
   "outputs": [
    {
     "data": {
      "image/png": "[encoded data removed]",
      "text/plain": [
       "<Figure size 432x288 with 1 Axes>"
      ]
     },
     "metadata": {},
     "output_type": "display_data"
    }
   ],
   "source": [
    "(data_by_year['is_data_science']).plot(kind='bar', title='Data Science Jobs');"
   ]
  },
  {
   "cell_type": "code",
   "execution_count": 25,
   "metadata": {
    "ExecuteTime": {
     "end_time": "2019-04-11T00:37:13.862191Z",
     "start_time": "2019-04-11T00:37:12.518022Z"
    }
   },
   "outputs": [
    {
     "data": {
      "image/png": "[encoded data removed]",
      "text/plain": [
       "<Figure size 432x288 with 1 Axes>"
      ]
     },
     "metadata": {},
     "output_type": "display_data"
    }
   ],
   "source": [
    "(data_by_year['is_data_science']/data_by_year['is_data_related']).plot(kind='bar', title='Data Science Jobs Proportion');"
   ]
  },
  {
   "cell_type": "markdown",
   "metadata": {
    "ExecuteTime": {
     "end_time": "2019-04-07T21:59:13.449371Z",
     "start_time": "2019-04-07T21:59:13.442194Z"
    }
   },
   "source": [
    "### Q: Where are the data jobs located?"
   ]
  },
  {
   "cell_type": "code",
   "execution_count": 26,
   "metadata": {
    "ExecuteTime": {
     "end_time": "2019-04-11T00:37:16.753687Z",
     "start_time": "2019-04-11T00:37:13.882557Z"
    },
    "collapsed": true
   },
   "outputs": [],
   "source": [
    "data_by_loc = df.groupby('WORKSITE').agg({'is_data_related':'sum', 'is_data_science':'sum', 'JOB_TITLE':'count'}).astype(int)\n",
    "data_by_loc = data_by_loc.rename(columns={'JOB_TITLE':'total'})"
   ]
  },
  {
   "cell_type": "code",
   "execution_count": 27,
   "metadata": {
    "ExecuteTime": {
     "end_time": "2019-04-11T00:37:18.300389Z",
     "start_time": "2019-04-11T00:37:16.758454Z"
    },
    "collapsed": true
   },
   "outputs": [],
   "source": [
    "data_by_state = df.groupby('state').agg({'is_data_related':'sum', 'is_data_science':'sum', 'JOB_TITLE':'count'}).astype(int)\n",
    "data_by_state = data_by_state.rename(columns={'JOB_TITLE':'total'})\n",
    "data_by_state = data_by_state.sort_values('is_data_science', ascending=False)\n",
    "data_by_state['cum_data_science'] = data_by_state['is_data_science'].cumsum()*100/data_by_state.is_data_science.sum()"
   ]
  },
  {
   "cell_type": "code",
   "execution_count": 28,
   "metadata": {
    "ExecuteTime": {
     "end_time": "2019-04-11T00:37:18.470063Z",
     "start_time": "2019-04-11T00:37:18.304892Z"
    },
    "scrolled": true
   },
   "outputs": [
    {
     "data": {
      "text/html": [
       "<div>\n",
       "<style>\n",
       "    .dataframe thead tr:only-child th {\n",
       "        text-align: right;\n",
       "    }\n",
       "\n",
       "    .dataframe thead th {\n",
       "        text-align: left;\n",
       "    }\n",
       "\n",
       "    .dataframe tbody tr th {\n",
       "        vertical-align: top;\n",
       "    }\n",
       "</style>\n",
       "<table border=\"1\" class=\"dataframe\">\n",
       "  <thead>\n",
       "    <tr style=\"text-align: right;\">\n",
       "      <th></th>\n",
       "      <th>is_data_related</th>\n",
       "      <th>is_data_science</th>\n",
       "      <th>total</th>\n",
       "      <th>cum_data_science</th>\n",
       "    </tr>\n",
       "    <tr>\n",
       "      <th>state</th>\n",
       "      <th></th>\n",
       "      <th></th>\n",
       "      <th></th>\n",
       "      <th></th>\n",
       "    </tr>\n",
       "  </thead>\n",
       "  <tbody>\n",
       "    <tr>\n",
       "      <th>CALIFORNIA</th>\n",
       "      <td>11963</td>\n",
       "      <td>1677</td>\n",
       "      <td>524924</td>\n",
       "      <td>49.78</td>\n",
       "    </tr>\n",
       "    <tr>\n",
       "      <th>NEW YORK</th>\n",
       "      <td>4540</td>\n",
       "      <td>378</td>\n",
       "      <td>269647</td>\n",
       "      <td>61.00</td>\n",
       "    </tr>\n",
       "    <tr>\n",
       "      <th>WASHINGTON</th>\n",
       "      <td>2246</td>\n",
       "      <td>249</td>\n",
       "      <td>98126</td>\n",
       "      <td>68.39</td>\n",
       "    </tr>\n",
       "    <tr>\n",
       "      <th>MASSACHUSETTS</th>\n",
       "      <td>3178</td>\n",
       "      <td>214</td>\n",
       "      <td>109403</td>\n",
       "      <td>74.74</td>\n",
       "    </tr>\n",
       "    <tr>\n",
       "      <th>ILLINOIS</th>\n",
       "      <td>3109</td>\n",
       "      <td>115</td>\n",
       "      <td>152290</td>\n",
       "      <td>78.15</td>\n",
       "    </tr>\n",
       "    <tr>\n",
       "      <th>TEXAS</th>\n",
       "      <td>5985</td>\n",
       "      <td>113</td>\n",
       "      <td>276825</td>\n",
       "      <td>81.51</td>\n",
       "    </tr>\n",
       "    <tr>\n",
       "      <th>NEW JERSEY</th>\n",
       "      <td>5277</td>\n",
       "      <td>86</td>\n",
       "      <td>202729</td>\n",
       "      <td>84.06</td>\n",
       "    </tr>\n",
       "    <tr>\n",
       "      <th>GEORGIA</th>\n",
       "      <td>2919</td>\n",
       "      <td>65</td>\n",
       "      <td>97272</td>\n",
       "      <td>85.99</td>\n",
       "    </tr>\n",
       "    <tr>\n",
       "      <th>VIRGINIA</th>\n",
       "      <td>2930</td>\n",
       "      <td>55</td>\n",
       "      <td>84665</td>\n",
       "      <td>87.62</td>\n",
       "    </tr>\n",
       "    <tr>\n",
       "      <th>OHIO</th>\n",
       "      <td>1531</td>\n",
       "      <td>45</td>\n",
       "      <td>72618</td>\n",
       "      <td>88.96</td>\n",
       "    </tr>\n",
       "    <tr>\n",
       "      <th>NORTH CAROLINA</th>\n",
       "      <td>2070</td>\n",
       "      <td>44</td>\n",
       "      <td>75701</td>\n",
       "      <td>90.26</td>\n",
       "    </tr>\n",
       "    <tr>\n",
       "      <th>MISSOURI</th>\n",
       "      <td>755</td>\n",
       "      <td>31</td>\n",
       "      <td>32911</td>\n",
       "      <td>91.18</td>\n",
       "    </tr>\n",
       "    <tr>\n",
       "      <th>PENNSYLVANIA</th>\n",
       "      <td>1850</td>\n",
       "      <td>30</td>\n",
       "      <td>104516</td>\n",
       "      <td>92.07</td>\n",
       "    </tr>\n",
       "    <tr>\n",
       "      <th>MICHIGAN</th>\n",
       "      <td>1326</td>\n",
       "      <td>30</td>\n",
       "      <td>78285</td>\n",
       "      <td>92.97</td>\n",
       "    </tr>\n",
       "    <tr>\n",
       "      <th>FLORIDA</th>\n",
       "      <td>1585</td>\n",
       "      <td>23</td>\n",
       "      <td>97124</td>\n",
       "      <td>93.65</td>\n",
       "    </tr>\n",
       "    <tr>\n",
       "      <th>UTAH</th>\n",
       "      <td>231</td>\n",
       "      <td>22</td>\n",
       "      <td>12081</td>\n",
       "      <td>94.30</td>\n",
       "    </tr>\n",
       "    <tr>\n",
       "      <th>COLORADO</th>\n",
       "      <td>708</td>\n",
       "      <td>21</td>\n",
       "      <td>29828</td>\n",
       "      <td>94.92</td>\n",
       "    </tr>\n",
       "    <tr>\n",
       "      <th>DISTRICT OF COLUMBIA</th>\n",
       "      <td>460</td>\n",
       "      <td>18</td>\n",
       "      <td>20825</td>\n",
       "      <td>95.46</td>\n",
       "    </tr>\n",
       "    <tr>\n",
       "      <th>ARIZONA</th>\n",
       "      <td>929</td>\n",
       "      <td>17</td>\n",
       "      <td>39641</td>\n",
       "      <td>95.96</td>\n",
       "    </tr>\n",
       "    <tr>\n",
       "      <th>MARYLAND</th>\n",
       "      <td>1246</td>\n",
       "      <td>16</td>\n",
       "      <td>52351</td>\n",
       "      <td>96.44</td>\n",
       "    </tr>\n",
       "    <tr>\n",
       "      <th>CONNECTICUT</th>\n",
       "      <td>1027</td>\n",
       "      <td>15</td>\n",
       "      <td>47682</td>\n",
       "      <td>96.88</td>\n",
       "    </tr>\n",
       "    <tr>\n",
       "      <th>TENNESSEE</th>\n",
       "      <td>609</td>\n",
       "      <td>15</td>\n",
       "      <td>26022</td>\n",
       "      <td>97.33</td>\n",
       "    </tr>\n",
       "    <tr>\n",
       "      <th>MINNESOTA</th>\n",
       "      <td>1123</td>\n",
       "      <td>12</td>\n",
       "      <td>46293</td>\n",
       "      <td>97.68</td>\n",
       "    </tr>\n",
       "    <tr>\n",
       "      <th>OREGON</th>\n",
       "      <td>248</td>\n",
       "      <td>11</td>\n",
       "      <td>22362</td>\n",
       "      <td>98.01</td>\n",
       "    </tr>\n",
       "    <tr>\n",
       "      <th>INDIANA</th>\n",
       "      <td>577</td>\n",
       "      <td>9</td>\n",
       "      <td>28488</td>\n",
       "      <td>98.28</td>\n",
       "    </tr>\n",
       "    <tr>\n",
       "      <th>ARKANSAS</th>\n",
       "      <td>229</td>\n",
       "      <td>8</td>\n",
       "      <td>14009</td>\n",
       "      <td>98.52</td>\n",
       "    </tr>\n",
       "    <tr>\n",
       "      <th>SOUTH CAROLINA</th>\n",
       "      <td>213</td>\n",
       "      <td>6</td>\n",
       "      <td>11969</td>\n",
       "      <td>98.69</td>\n",
       "    </tr>\n",
       "    <tr>\n",
       "      <th>NEVADA</th>\n",
       "      <td>109</td>\n",
       "      <td>5</td>\n",
       "      <td>6549</td>\n",
       "      <td>98.84</td>\n",
       "    </tr>\n",
       "    <tr>\n",
       "      <th>KENTUCKY</th>\n",
       "      <td>278</td>\n",
       "      <td>5</td>\n",
       "      <td>11868</td>\n",
       "      <td>98.99</td>\n",
       "    </tr>\n",
       "    <tr>\n",
       "      <th>KANSAS</th>\n",
       "      <td>209</td>\n",
       "      <td>5</td>\n",
       "      <td>12876</td>\n",
       "      <td>99.14</td>\n",
       "    </tr>\n",
       "    <tr>\n",
       "      <th>IOWA</th>\n",
       "      <td>371</td>\n",
       "      <td>5</td>\n",
       "      <td>15796</td>\n",
       "      <td>99.29</td>\n",
       "    </tr>\n",
       "    <tr>\n",
       "      <th>RHODE ISLAND</th>\n",
       "      <td>312</td>\n",
       "      <td>5</td>\n",
       "      <td>11179</td>\n",
       "      <td>99.44</td>\n",
       "    </tr>\n",
       "    <tr>\n",
       "      <th>WISCONSIN</th>\n",
       "      <td>687</td>\n",
       "      <td>4</td>\n",
       "      <td>31049</td>\n",
       "      <td>99.55</td>\n",
       "    </tr>\n",
       "    <tr>\n",
       "      <th>HAWAII</th>\n",
       "      <td>72</td>\n",
       "      <td>4</td>\n",
       "      <td>3255</td>\n",
       "      <td>99.67</td>\n",
       "    </tr>\n",
       "    <tr>\n",
       "      <th>DELAWARE</th>\n",
       "      <td>419</td>\n",
       "      <td>3</td>\n",
       "      <td>17341</td>\n",
       "      <td>99.76</td>\n",
       "    </tr>\n",
       "    <tr>\n",
       "      <th>NEBRASKA</th>\n",
       "      <td>286</td>\n",
       "      <td>2</td>\n",
       "      <td>8728</td>\n",
       "      <td>99.82</td>\n",
       "    </tr>\n",
       "    <tr>\n",
       "      <th>IDAHO</th>\n",
       "      <td>60</td>\n",
       "      <td>2</td>\n",
       "      <td>3844</td>\n",
       "      <td>99.88</td>\n",
       "    </tr>\n",
       "    <tr>\n",
       "      <th>MISSISSIPPI</th>\n",
       "      <td>54</td>\n",
       "      <td>1</td>\n",
       "      <td>3821</td>\n",
       "      <td>99.91</td>\n",
       "    </tr>\n",
       "    <tr>\n",
       "      <th>NEW HAMPSHIRE</th>\n",
       "      <td>207</td>\n",
       "      <td>1</td>\n",
       "      <td>9378</td>\n",
       "      <td>99.94</td>\n",
       "    </tr>\n",
       "    <tr>\n",
       "      <th>OKLAHOMA</th>\n",
       "      <td>218</td>\n",
       "      <td>1</td>\n",
       "      <td>9767</td>\n",
       "      <td>99.97</td>\n",
       "    </tr>\n",
       "    <tr>\n",
       "      <th>ALABAMA</th>\n",
       "      <td>113</td>\n",
       "      <td>1</td>\n",
       "      <td>9388</td>\n",
       "      <td>100.00</td>\n",
       "    </tr>\n",
       "    <tr>\n",
       "      <th>WEST VIRGINIA</th>\n",
       "      <td>38</td>\n",
       "      <td>0</td>\n",
       "      <td>2794</td>\n",
       "      <td>100.00</td>\n",
       "    </tr>\n",
       "    <tr>\n",
       "      <th>VERMONT</th>\n",
       "      <td>26</td>\n",
       "      <td>0</td>\n",
       "      <td>1771</td>\n",
       "      <td>100.00</td>\n",
       "    </tr>\n",
       "    <tr>\n",
       "      <th>MONTANA</th>\n",
       "      <td>17</td>\n",
       "      <td>0</td>\n",
       "      <td>867</td>\n",
       "      <td>100.00</td>\n",
       "    </tr>\n",
       "    <tr>\n",
       "      <th>SOUTH DAKOTA</th>\n",
       "      <td>19</td>\n",
       "      <td>0</td>\n",
       "      <td>1738</td>\n",
       "      <td>100.00</td>\n",
       "    </tr>\n",
       "    <tr>\n",
       "      <th>PUERTO RICO</th>\n",
       "      <td>22</td>\n",
       "      <td>0</td>\n",
       "      <td>1196</td>\n",
       "      <td>100.00</td>\n",
       "    </tr>\n",
       "    <tr>\n",
       "      <th>NORTH DAKOTA</th>\n",
       "      <td>28</td>\n",
       "      <td>0</td>\n",
       "      <td>2672</td>\n",
       "      <td>100.00</td>\n",
       "    </tr>\n",
       "    <tr>\n",
       "      <th>NEW MEXICO</th>\n",
       "      <td>45</td>\n",
       "      <td>0</td>\n",
       "      <td>5010</td>\n",
       "      <td>100.00</td>\n",
       "    </tr>\n",
       "    <tr>\n",
       "      <th>NA</th>\n",
       "      <td>7</td>\n",
       "      <td>0</td>\n",
       "      <td>2722</td>\n",
       "      <td>100.00</td>\n",
       "    </tr>\n",
       "    <tr>\n",
       "      <th>ALASKA</th>\n",
       "      <td>6</td>\n",
       "      <td>0</td>\n",
       "      <td>1205</td>\n",
       "      <td>100.00</td>\n",
       "    </tr>\n",
       "    <tr>\n",
       "      <th>MAINE</th>\n",
       "      <td>85</td>\n",
       "      <td>0</td>\n",
       "      <td>3676</td>\n",
       "      <td>100.00</td>\n",
       "    </tr>\n",
       "    <tr>\n",
       "      <th>LOUISIANA</th>\n",
       "      <td>216</td>\n",
       "      <td>0</td>\n",
       "      <td>10441</td>\n",
       "      <td>100.00</td>\n",
       "    </tr>\n",
       "    <tr>\n",
       "      <th>WYOMING</th>\n",
       "      <td>1</td>\n",
       "      <td>0</td>\n",
       "      <td>761</td>\n",
       "      <td>100.00</td>\n",
       "    </tr>\n",
       "  </tbody>\n",
       "</table>\n",
       "</div>"
      ],
      "text/plain": [
       "                      is_data_related  is_data_science   total  \\\n",
       "state                                                            \n",
       "CALIFORNIA                      11963             1677  524924   \n",
       "NEW YORK                         4540              378  269647   \n",
       "WASHINGTON                       2246              249   98126   \n",
       "MASSACHUSETTS                    3178              214  109403   \n",
       "ILLINOIS                         3109              115  152290   \n",
       "TEXAS                            5985              113  276825   \n",
       "NEW JERSEY                       5277               86  202729   \n",
       "GEORGIA                          2919               65   97272   \n",
       "VIRGINIA                         2930               55   84665   \n",
       "OHIO                             1531               45   72618   \n",
       "NORTH CAROLINA                   2070               44   75701   \n",
       "MISSOURI                          755               31   32911   \n",
       "PENNSYLVANIA                     1850               30  104516   \n",
       "MICHIGAN                         1326               30   78285   \n",
       "FLORIDA                          1585               23   97124   \n",
       "UTAH                              231               22   12081   \n",
       "COLORADO                          708               21   29828   \n",
       "DISTRICT OF COLUMBIA              460               18   20825   \n",
       "ARIZONA                           929               17   39641   \n",
       "MARYLAND                         1246               16   52351   \n",
       "CONNECTICUT                      1027               15   47682   \n",
       "TENNESSEE                         609               15   26022   \n",
       "MINNESOTA                        1123               12   46293   \n",
       "OREGON                            248               11   22362   \n",
       "INDIANA                           577                9   28488   \n",
       "ARKANSAS                          229                8   14009   \n",
       "SOUTH CAROLINA                    213                6   11969   \n",
       "NEVADA                            109                5    6549   \n",
       "KENTUCKY                          278                5   11868   \n",
       "KANSAS                            209                5   12876   \n",
       "IOWA                              371                5   15796   \n",
       "RHODE ISLAND                      312                5   11179   \n",
       "WISCONSIN                         687                4   31049   \n",
       "HAWAII                             72                4    3255   \n",
       "DELAWARE                          419                3   17341   \n",
       "NEBRASKA                          286                2    8728   \n",
       "IDAHO                              60                2    3844   \n",
       "MISSISSIPPI                        54                1    3821   \n",
       "NEW HAMPSHIRE                     207                1    9378   \n",
       "OKLAHOMA                          218                1    9767   \n",
       "ALABAMA                           113                1    9388   \n",
       "WEST VIRGINIA                      38                0    2794   \n",
       "VERMONT                            26                0    1771   \n",
       "MONTANA                            17                0     867   \n",
       "SOUTH DAKOTA                       19                0    1738   \n",
       "PUERTO RICO                        22                0    1196   \n",
       "NORTH DAKOTA                       28                0    2672   \n",
       "NEW MEXICO                         45                0    5010   \n",
       "NA                                  7                0    2722   \n",
       "ALASKA                              6                0    1205   \n",
       "MAINE                              85                0    3676   \n",
       "LOUISIANA                         216                0   10441   \n",
       "WYOMING                             1                0     761   \n",
       "\n",
       "                      cum_data_science  \n",
       "state                                   \n",
       "CALIFORNIA                       49.78  \n",
       "NEW YORK                         61.00  \n",
       "WASHINGTON                       68.39  \n",
       "MASSACHUSETTS                    74.74  \n",
       "ILLINOIS                         78.15  \n",
       "TEXAS                            81.51  \n",
       "NEW JERSEY                       84.06  \n",
       "GEORGIA                          85.99  \n",
       "VIRGINIA                         87.62  \n",
       "OHIO                             88.96  \n",
       "NORTH CAROLINA                   90.26  \n",
       "MISSOURI                         91.18  \n",
       "PENNSYLVANIA                     92.07  \n",
       "MICHIGAN                         92.97  \n",
       "FLORIDA                          93.65  \n",
       "UTAH                             94.30  \n",
       "COLORADO                         94.92  \n",
       "DISTRICT OF COLUMBIA             95.46  \n",
       "ARIZONA                          95.96  \n",
       "MARYLAND                         96.44  \n",
       "CONNECTICUT                      96.88  \n",
       "TENNESSEE                        97.33  \n",
       "MINNESOTA                        97.68  \n",
       "OREGON                           98.01  \n",
       "INDIANA                          98.28  \n",
       "ARKANSAS                         98.52  \n",
       "SOUTH CAROLINA                   98.69  \n",
       "NEVADA                           98.84  \n",
       "KENTUCKY                         98.99  \n",
       "KANSAS                           99.14  \n",
       "IOWA                             99.29  \n",
       "RHODE ISLAND                     99.44  \n",
       "WISCONSIN                        99.55  \n",
       "HAWAII                           99.67  \n",
       "DELAWARE                         99.76  \n",
       "NEBRASKA                         99.82  \n",
       "IDAHO                            99.88  \n",
       "MISSISSIPPI                      99.91  \n",
       "NEW HAMPSHIRE                    99.94  \n",
       "OKLAHOMA                         99.97  \n",
       "ALABAMA                         100.00  \n",
       "WEST VIRGINIA                   100.00  \n",
       "VERMONT                         100.00  \n",
       "MONTANA                         100.00  \n",
       "SOUTH DAKOTA                    100.00  \n",
       "PUERTO RICO                     100.00  \n",
       "NORTH DAKOTA                    100.00  \n",
       "NEW MEXICO                      100.00  \n",
       "NA                              100.00  \n",
       "ALASKA                          100.00  \n",
       "MAINE                           100.00  \n",
       "LOUISIANA                       100.00  \n",
       "WYOMING                         100.00  "
      ]
     },
     "execution_count": 28,
     "metadata": {},
     "output_type": "execute_result"
    }
   ],
   "source": [
    "data_by_state"
   ]
  },
  {
   "cell_type": "markdown",
   "metadata": {
    "ExecuteTime": {
     "end_time": "2019-04-08T04:22:03.631849Z",
     "start_time": "2019-04-08T04:22:03.621665Z"
    }
   },
   "source": [
    "- Looking at the data above it appears that California has almost 50% of all data science jobs, and the top 6 states (CA, NY, WA, MA, IL, TX) cover more than 80% of all data science jobs.\n",
    "- Next we visualize this data on United States map"
   ]
  },
  {
   "cell_type": "code",
   "execution_count": 29,
   "metadata": {
    "ExecuteTime": {
     "end_time": "2019-04-11T00:37:19.239793Z",
     "start_time": "2019-04-11T00:37:18.484903Z"
    }
   },
   "outputs": [
    {
     "ename": "DriverError",
     "evalue": "Unable to open ./geo_export_147a1d75-342a-4acc-b46f-b93aaab27e22.shx or ./geo_export_147a1d75-342a-4acc-b46f-b93aaab27e22.SHX. Set SHAPE_RESTORE_SHX config option to YES to restore or create it.",
     "output_type": "error",
     "traceback": [
      "\u001b[0;31m---------------------------------------------------------------------------\u001b[0m",
      "\u001b[0;31mCPLE_OpenFailedError\u001b[0m                      Traceback (most recent call last)",
      "\u001b[0;32mfiona/_shim.pyx\u001b[0m in \u001b[0;36mfiona._shim.gdal_open_vector\u001b[0;34m()\u001b[0m\n",
      "\u001b[0;32mfiona/_err.pyx\u001b[0m in \u001b[0;36mfiona._err.exc_wrap_pointer\u001b[0;34m()\u001b[0m\n",
      "\u001b[0;31mCPLE_OpenFailedError\u001b[0m: Unable to open ./geo_export_147a1d75-342a-4acc-b46f-b93aaab27e22.shx or ./geo_export_147a1d75-342a-4acc-b46f-b93aaab27e22.SHX. Set SHAPE_RESTORE_SHX config option to YES to restore or create it.",
      "\nDuring handling of the above exception, another exception occurred:\n",
      "\u001b[0;31mDriverError\u001b[0m                               Traceback (most recent call last)",
      "\u001b[0;32m<ipython-input-29-ac1e057b52a8>\u001b[0m in \u001b[0;36m<module>\u001b[0;34m()\u001b[0m\n\u001b[0;32m----> 1\u001b[0;31m \u001b[0musa\u001b[0m \u001b[0;34m=\u001b[0m \u001b[0mgpd\u001b[0m\u001b[0;34m.\u001b[0m\u001b[0mread_file\u001b[0m\u001b[0;34m(\u001b[0m\u001b[0;34m'./geo_export_147a1d75-342a-4acc-b46f-b93aaab27e22.shp'\u001b[0m\u001b[0;34m)\u001b[0m\u001b[0;34m\u001b[0m\u001b[0;34m\u001b[0m\u001b[0m\n\u001b[0m",
      "\u001b[0;32m~/miniconda3/envs/pt36/lib/python3.6/site-packages/geopandas/io/file.py\u001b[0m in \u001b[0;36mread_file\u001b[0;34m(filename, bbox, **kwargs)\u001b[0m\n\u001b[1;32m     69\u001b[0m \u001b[0;34m\u001b[0m\u001b[0m\n\u001b[1;32m     70\u001b[0m     \u001b[0;32mwith\u001b[0m \u001b[0mfiona_env\u001b[0m\u001b[0;34m(\u001b[0m\u001b[0;34m)\u001b[0m\u001b[0;34m:\u001b[0m\u001b[0;34m\u001b[0m\u001b[0;34m\u001b[0m\u001b[0m\n\u001b[0;32m---> 71\u001b[0;31m         \u001b[0;32mwith\u001b[0m \u001b[0mreader\u001b[0m\u001b[0;34m(\u001b[0m\u001b[0mpath_or_bytes\u001b[0m\u001b[0;34m,\u001b[0m \u001b[0;34m**\u001b[0m\u001b[0mkwargs\u001b[0m\u001b[0;34m)\u001b[0m \u001b[0;32mas\u001b[0m \u001b[0mfeatures\u001b[0m\u001b[0;34m:\u001b[0m\u001b[0;34m\u001b[0m\u001b[0;34m\u001b[0m\u001b[0m\n\u001b[0m\u001b[1;32m     72\u001b[0m             \u001b[0mcrs\u001b[0m \u001b[0;34m=\u001b[0m \u001b[0mfeatures\u001b[0m\u001b[0;34m.\u001b[0m\u001b[0mcrs\u001b[0m\u001b[0;34m\u001b[0m\u001b[0;34m\u001b[0m\u001b[0m\n\u001b[1;32m     73\u001b[0m             \u001b[0;32mif\u001b[0m \u001b[0mbbox\u001b[0m \u001b[0;32mis\u001b[0m \u001b[0;32mnot\u001b[0m \u001b[0;32mNone\u001b[0m\u001b[0;34m:\u001b[0m\u001b[0;34m\u001b[0m\u001b[0;34m\u001b[0m\u001b[0m\n",
      "\u001b[0;32m~/miniconda3/envs/pt36/lib/python3.6/site-packages/fiona/env.py\u001b[0m in \u001b[0;36mwrapper\u001b[0;34m(*args, **kwargs)\u001b[0m\n\u001b[1;32m    394\u001b[0m     \u001b[0;32mdef\u001b[0m \u001b[0mwrapper\u001b[0m\u001b[0;34m(\u001b[0m\u001b[0;34m*\u001b[0m\u001b[0margs\u001b[0m\u001b[0;34m,\u001b[0m \u001b[0;34m**\u001b[0m\u001b[0mkwargs\u001b[0m\u001b[0;34m)\u001b[0m\u001b[0;34m:\u001b[0m\u001b[0;34m\u001b[0m\u001b[0;34m\u001b[0m\u001b[0m\n\u001b[1;32m    395\u001b[0m         \u001b[0;32mif\u001b[0m \u001b[0mlocal\u001b[0m\u001b[0;34m.\u001b[0m\u001b[0m_env\u001b[0m\u001b[0;34m:\u001b[0m\u001b[0;34m\u001b[0m\u001b[0;34m\u001b[0m\u001b[0m\n\u001b[0;32m--> 396\u001b[0;31m             \u001b[0;32mreturn\u001b[0m \u001b[0mf\u001b[0m\u001b[0;34m(\u001b[0m\u001b[0;34m*\u001b[0m\u001b[0margs\u001b[0m\u001b[0;34m,\u001b[0m \u001b[0;34m**\u001b[0m\u001b[0mkwargs\u001b[0m\u001b[0;34m)\u001b[0m\u001b[0;34m\u001b[0m\u001b[0;34m\u001b[0m\u001b[0m\n\u001b[0m\u001b[1;32m    397\u001b[0m         \u001b[0;32melse\u001b[0m\u001b[0;34m:\u001b[0m\u001b[0;34m\u001b[0m\u001b[0;34m\u001b[0m\u001b[0m\n\u001b[1;32m    398\u001b[0m             \u001b[0;32mif\u001b[0m \u001b[0misinstance\u001b[0m\u001b[0;34m(\u001b[0m\u001b[0margs\u001b[0m\u001b[0;34m[\u001b[0m\u001b[0;36m0\u001b[0m\u001b[0;34m]\u001b[0m\u001b[0;34m,\u001b[0m \u001b[0mstr\u001b[0m\u001b[0;34m)\u001b[0m\u001b[0;34m:\u001b[0m\u001b[0;34m\u001b[0m\u001b[0;34m\u001b[0m\u001b[0m\n",
      "\u001b[0;32m~/miniconda3/envs/pt36/lib/python3.6/site-packages/fiona/__init__.py\u001b[0m in \u001b[0;36mopen\u001b[0;34m(fp, mode, driver, schema, crs, encoding, layer, vfs, enabled_drivers, crs_wkt, **kwargs)\u001b[0m\n\u001b[1;32m    251\u001b[0m         \u001b[0;32mif\u001b[0m \u001b[0mmode\u001b[0m \u001b[0;32min\u001b[0m \u001b[0;34m(\u001b[0m\u001b[0;34m'a'\u001b[0m\u001b[0;34m,\u001b[0m \u001b[0;34m'r'\u001b[0m\u001b[0;34m)\u001b[0m\u001b[0;34m:\u001b[0m\u001b[0;34m\u001b[0m\u001b[0;34m\u001b[0m\u001b[0m\n\u001b[1;32m    252\u001b[0m             c = Collection(path, mode, driver=driver, encoding=encoding,\n\u001b[0;32m--> 253\u001b[0;31m                            layer=layer, enabled_drivers=enabled_drivers, **kwargs)\n\u001b[0m\u001b[1;32m    254\u001b[0m         \u001b[0;32melif\u001b[0m \u001b[0mmode\u001b[0m \u001b[0;34m==\u001b[0m \u001b[0;34m'w'\u001b[0m\u001b[0;34m:\u001b[0m\u001b[0;34m\u001b[0m\u001b[0;34m\u001b[0m\u001b[0m\n\u001b[1;32m    255\u001b[0m             \u001b[0;32mif\u001b[0m \u001b[0mschema\u001b[0m\u001b[0;34m:\u001b[0m\u001b[0;34m\u001b[0m\u001b[0;34m\u001b[0m\u001b[0m\n",
      "\u001b[0;32m~/miniconda3/envs/pt36/lib/python3.6/site-packages/fiona/collection.py\u001b[0m in \u001b[0;36m__init__\u001b[0;34m(self, path, mode, driver, schema, crs, encoding, layer, vsi, archive, enabled_drivers, crs_wkt, ignore_fields, ignore_geometry, **kwargs)\u001b[0m\n\u001b[1;32m    157\u001b[0m             \u001b[0;32mif\u001b[0m \u001b[0mself\u001b[0m\u001b[0;34m.\u001b[0m\u001b[0mmode\u001b[0m \u001b[0;34m==\u001b[0m \u001b[0;34m'r'\u001b[0m\u001b[0;34m:\u001b[0m\u001b[0;34m\u001b[0m\u001b[0;34m\u001b[0m\u001b[0m\n\u001b[1;32m    158\u001b[0m                 \u001b[0mself\u001b[0m\u001b[0;34m.\u001b[0m\u001b[0msession\u001b[0m \u001b[0;34m=\u001b[0m \u001b[0mSession\u001b[0m\u001b[0;34m(\u001b[0m\u001b[0;34m)\u001b[0m\u001b[0;34m\u001b[0m\u001b[0;34m\u001b[0m\u001b[0m\n\u001b[0;32m--> 159\u001b[0;31m                 \u001b[0mself\u001b[0m\u001b[0;34m.\u001b[0m\u001b[0msession\u001b[0m\u001b[0;34m.\u001b[0m\u001b[0mstart\u001b[0m\u001b[0;34m(\u001b[0m\u001b[0mself\u001b[0m\u001b[0;34m,\u001b[0m \u001b[0;34m**\u001b[0m\u001b[0mkwargs\u001b[0m\u001b[0;34m)\u001b[0m\u001b[0;34m\u001b[0m\u001b[0;34m\u001b[0m\u001b[0m\n\u001b[0m\u001b[1;32m    160\u001b[0m             \u001b[0;32melif\u001b[0m \u001b[0mself\u001b[0m\u001b[0;34m.\u001b[0m\u001b[0mmode\u001b[0m \u001b[0;32min\u001b[0m \u001b[0;34m(\u001b[0m\u001b[0;34m'a'\u001b[0m\u001b[0;34m,\u001b[0m \u001b[0;34m'w'\u001b[0m\u001b[0;34m)\u001b[0m\u001b[0;34m:\u001b[0m\u001b[0;34m\u001b[0m\u001b[0;34m\u001b[0m\u001b[0m\n\u001b[1;32m    161\u001b[0m                 \u001b[0mself\u001b[0m\u001b[0;34m.\u001b[0m\u001b[0msession\u001b[0m \u001b[0;34m=\u001b[0m \u001b[0mWritingSession\u001b[0m\u001b[0;34m(\u001b[0m\u001b[0;34m)\u001b[0m\u001b[0;34m\u001b[0m\u001b[0;34m\u001b[0m\u001b[0m\n",
      "\u001b[0;32mfiona/ogrext.pyx\u001b[0m in \u001b[0;36mfiona.ogrext.Session.start\u001b[0;34m()\u001b[0m\n",
      "\u001b[0;32mfiona/_shim.pyx\u001b[0m in \u001b[0;36mfiona._shim.gdal_open_vector\u001b[0;34m()\u001b[0m\n",
      "\u001b[0;31mDriverError\u001b[0m: Unable to open ./geo_export_147a1d75-342a-4acc-b46f-b93aaab27e22.shx or ./geo_export_147a1d75-342a-4acc-b46f-b93aaab27e22.SHX. Set SHAPE_RESTORE_SHX config option to YES to restore or create it."
     ]
    }
   ],
   "source": [
    "usa = gpd.read_file('./data/S/geo_export_147a1d75-342a-4acc-b46f-b93aaab27e22.shp')"
   ]
  },
  {
   "cell_type": "code",
   "execution_count": null,
   "metadata": {
    "ExecuteTime": {
     "end_time": "2019-04-11T00:37:19.241666Z",
     "start_time": "2019-04-11T00:35:49.647Z"
    },
    "collapsed": true
   },
   "outputs": [],
   "source": [
    "state_pct_dict = {k.lower():v for (k,v) in ((100 - data_by_state.cum_data_science)/100).to_dict().items()}\n",
    "\n",
    "usa['color'] = usa.state_name.str.lower().map(state_pct_dict).apply(lambda _: cm.Blues((_ + 0.3) if _ > 0 else 0))"
   ]
  },
  {
   "cell_type": "code",
   "execution_count": null,
   "metadata": {
    "ExecuteTime": {
     "end_time": "2019-04-11T00:37:19.245599Z",
     "start_time": "2019-04-11T00:35:49.656Z"
    }
   },
   "outputs": [],
   "source": [
    "fig, ax = plt.subplots(figsize=(20,18))\n",
    "for i, row in usa.iterrows():\n",
    "    if row.state_abbr not in (['HI', 'AK']):\n",
    "        usa[usa.state_abbr == row.state_abbr].plot(ax=ax, color=row.color, edgecolor='y')"
   ]
  },
  {
   "cell_type": "markdown",
   "metadata": {},
   "source": [
    "### Q: Do data scientists get higher wages compared to general data jobs?\n",
    "- we compare the prevailing wages for applications for all data jobs vs those for data science.\n",
    "- Just by eyeballing the distributions one can tell that prevailing wages for data science job tends to be higher than those of general data jobs.\n",
    "- Looking at the descriptive statistics we see that the mean and the median for data science jobs are > $20k higher than those for general data jobs."
   ]
  },
  {
   "cell_type": "code",
   "execution_count": null,
   "metadata": {
    "ExecuteTime": {
     "end_time": "2019-04-11T00:37:19.249177Z",
     "start_time": "2019-04-11T00:35:49.665Z"
    }
   },
   "outputs": [],
   "source": [
    "fig, axs = plt.subplots(1, 2, sharey=False, tight_layout=True)\n",
    "axs[0].set_title('Data Science')\n",
    "axs[0].hist(df[df['is_data_science']].PREVAILING_WAGE.values, bins=30);\n",
    "axs[1].set_title('All Data')\n",
    "axs[1].hist(df[df['is_data_related']].PREVAILING_WAGE.values, bins=30);"
   ]
  },
  {
   "cell_type": "code",
   "execution_count": null,
   "metadata": {
    "ExecuteTime": {
     "end_time": "2019-04-11T00:37:19.252448Z",
     "start_time": "2019-04-11T00:35:49.676Z"
    }
   },
   "outputs": [],
   "source": [
    "df[df['is_data_science']].PREVAILING_WAGE.describe()"
   ]
  },
  {
   "cell_type": "code",
   "execution_count": null,
   "metadata": {
    "ExecuteTime": {
     "end_time": "2019-04-11T00:37:19.255741Z",
     "start_time": "2019-04-11T00:35:49.681Z"
    }
   },
   "outputs": [],
   "source": [
    "df[df['is_data_related']].PREVAILING_WAGE.describe()"
   ]
  },
  {
   "cell_type": "code",
   "execution_count": null,
   "metadata": {
    "collapsed": true
   },
   "outputs": [],
   "source": []
  }
 ],
 "metadata": {
  "kernelspec": {
   "display_name": "Python [conda env:pt36]",
   "language": "python",
   "name": "conda-env-pt36-py"
  },
  "language_info": {
   "codemirror_mode": {
    "name": "ipython",
    "version": 3
   },
   "file_extension": ".py",
   "mimetype": "text/x-python",
   "name": "python",
   "nbconvert_exporter": "python",
   "pygments_lexer": "ipython3",
   "version": "3.6.8"
  }
 },
 "nbformat": 4,
 "nbformat_minor": 2
}
