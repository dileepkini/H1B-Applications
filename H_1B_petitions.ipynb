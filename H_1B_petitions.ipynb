{
 "cells": [
  {
   "cell_type": "code",
   "execution_count": 1,
   "metadata": {
    "ExecuteTime": {
     "end_time": "2019-04-13T02:44:09.235317Z",
     "start_time": "2019-04-13T02:44:07.218115Z"
    },
    "collapsed": true
   },
   "outputs": [],
   "source": [
    "import pandas as pd\n",
    "import numpy as np\n",
    "import string\n",
    "from collections import Counter\n",
    "import matplotlib.pyplot as plt\n",
    "import geopandas as gpd\n",
    "from shapely.geometry import Point, Polygon\n",
    "from matplotlib import cm\n",
    "%matplotlib inline\n",
    "\n",
    "pd.options.display.float_format = '{:.2f}'.format"
   ]
  },
  {
   "cell_type": "markdown",
   "metadata": {},
   "source": [
    "- which companies have the most applications for data scientists\n",
    "- how do data scientist salaries compare to the rest of the applicants\n",
    "- how do data scientst salaries compare to the the rest of the Data jobs\n",
    "- has applicants for data scientist evolved over time\n",
    "    - in absolute numbers\n",
    "    - and in comparison to the market, i.e, percentage of jobs that are data related\n",
    "- Location: Where are most data scientists located (Place and State)"
   ]
  },
  {
   "cell_type": "code",
   "execution_count": 14,
   "metadata": {
    "ExecuteTime": {
     "end_time": "2019-04-13T02:46:53.432040Z",
     "start_time": "2019-04-13T02:46:44.451387Z"
    }
   },
   "outputs": [
    {
     "name": "stderr",
     "output_type": "stream",
     "text": [
      "/Users/dileepkini/miniconda3/envs/pt36/lib/python3.6/site-packages/numpy/lib/arraysetops.py:463: FutureWarning: elementwise comparison failed; returning scalar instead, but in the future will perform elementwise comparison\n",
      "  mask |= (ar1 == a)\n"
     ]
    }
   ],
   "source": [
    "df = pd.read_csv('./h1b_kaggle.csv', index_col=0)"
   ]
  },
  {
   "cell_type": "markdown",
   "metadata": {},
   "source": [
    "## Business and Data Understanding (CRISP-DM Steps 1 & 2)\n",
    "- We have a data set consisting of details from H-1B applicants.\n",
    "- The business questions we are trying to answer will come from perfunctory exploration of the data that we have already have.\n",
    "- Looking at the columns and the first few rows we see that every row in the data corresponds to an applicant\n",
    "- For each applicant we see that they have a job title. We can use this field to focus on applicants in the data and data-science domain\n",
    "- There is also a WORKSITE column which tells us the location. So one of the questions we can ask is where are the data jobs located?\n",
    "- There is also a PREVAILING_WAGE column that can inform us about salaries earned by different data jobs. So this will be another question we can try and answer.\n",
    "- The YEAR column can be used to bucket the applicants of each year, and thus one of the questions we can ask is what does the trend in certain jobs look like year after year."
   ]
  },
  {
   "cell_type": "code",
   "execution_count": 15,
   "metadata": {
    "ExecuteTime": {
     "end_time": "2019-04-13T02:46:53.448718Z",
     "start_time": "2019-04-13T02:46:53.435718Z"
    }
   },
   "outputs": [
    {
     "data": {
      "text/plain": [
       "Index(['CASE_STATUS', 'EMPLOYER_NAME', 'SOC_NAME', 'JOB_TITLE',\n",
       "       'FULL_TIME_POSITION', 'PREVAILING_WAGE', 'YEAR', 'WORKSITE', 'lon',\n",
       "       'lat'],\n",
       "      dtype='object')"
      ]
     },
     "execution_count": 15,
     "metadata": {},
     "output_type": "execute_result"
    }
   ],
   "source": [
    "df.columns"
   ]
  },
  {
   "cell_type": "code",
   "execution_count": 16,
   "metadata": {
    "ExecuteTime": {
     "end_time": "2019-04-13T02:46:53.498435Z",
     "start_time": "2019-04-13T02:46:53.452916Z"
    }
   },
   "outputs": [
    {
     "data": {
      "text/html": [
       "<div>\n",
       "<style>\n",
       "    .dataframe thead tr:only-child th {\n",
       "        text-align: right;\n",
       "    }\n",
       "\n",
       "    .dataframe thead th {\n",
       "        text-align: left;\n",
       "    }\n",
       "\n",
       "    .dataframe tbody tr th {\n",
       "        vertical-align: top;\n",
       "    }\n",
       "</style>\n",
       "<table border=\"1\" class=\"dataframe\">\n",
       "  <thead>\n",
       "    <tr style=\"text-align: right;\">\n",
       "      <th></th>\n",
       "      <th>CASE_STATUS</th>\n",
       "      <th>EMPLOYER_NAME</th>\n",
       "      <th>SOC_NAME</th>\n",
       "      <th>JOB_TITLE</th>\n",
       "      <th>FULL_TIME_POSITION</th>\n",
       "      <th>PREVAILING_WAGE</th>\n",
       "      <th>YEAR</th>\n",
       "      <th>WORKSITE</th>\n",
       "      <th>lon</th>\n",
       "      <th>lat</th>\n",
       "    </tr>\n",
       "  </thead>\n",
       "  <tbody>\n",
       "    <tr>\n",
       "      <th>1</th>\n",
       "      <td>CERTIFIED-WITHDRAWN</td>\n",
       "      <td>UNIVERSITY OF MICHIGAN</td>\n",
       "      <td>BIOCHEMISTS AND BIOPHYSICISTS</td>\n",
       "      <td>POSTDOCTORAL RESEARCH FELLOW</td>\n",
       "      <td>N</td>\n",
       "      <td>36067.00</td>\n",
       "      <td>2016.00</td>\n",
       "      <td>ANN ARBOR, MICHIGAN</td>\n",
       "      <td>-83.74</td>\n",
       "      <td>42.28</td>\n",
       "    </tr>\n",
       "    <tr>\n",
       "      <th>2</th>\n",
       "      <td>CERTIFIED-WITHDRAWN</td>\n",
       "      <td>GOODMAN NETWORKS, INC.</td>\n",
       "      <td>CHIEF EXECUTIVES</td>\n",
       "      <td>CHIEF OPERATING OFFICER</td>\n",
       "      <td>Y</td>\n",
       "      <td>242674.00</td>\n",
       "      <td>2016.00</td>\n",
       "      <td>PLANO, TEXAS</td>\n",
       "      <td>-96.70</td>\n",
       "      <td>33.02</td>\n",
       "    </tr>\n",
       "    <tr>\n",
       "      <th>3</th>\n",
       "      <td>CERTIFIED-WITHDRAWN</td>\n",
       "      <td>PORTS AMERICA GROUP, INC.</td>\n",
       "      <td>CHIEF EXECUTIVES</td>\n",
       "      <td>CHIEF PROCESS OFFICER</td>\n",
       "      <td>Y</td>\n",
       "      <td>193066.00</td>\n",
       "      <td>2016.00</td>\n",
       "      <td>JERSEY CITY, NEW JERSEY</td>\n",
       "      <td>-74.08</td>\n",
       "      <td>40.73</td>\n",
       "    </tr>\n",
       "    <tr>\n",
       "      <th>4</th>\n",
       "      <td>CERTIFIED-WITHDRAWN</td>\n",
       "      <td>GATES CORPORATION, A WHOLLY-OWNED SUBSIDIARY O...</td>\n",
       "      <td>CHIEF EXECUTIVES</td>\n",
       "      <td>REGIONAL PRESIDEN, AMERICAS</td>\n",
       "      <td>Y</td>\n",
       "      <td>220314.00</td>\n",
       "      <td>2016.00</td>\n",
       "      <td>DENVER, COLORADO</td>\n",
       "      <td>-104.99</td>\n",
       "      <td>39.74</td>\n",
       "    </tr>\n",
       "    <tr>\n",
       "      <th>5</th>\n",
       "      <td>WITHDRAWN</td>\n",
       "      <td>PEABODY INVESTMENTS CORP.</td>\n",
       "      <td>CHIEF EXECUTIVES</td>\n",
       "      <td>PRESIDENT MONGOLIA AND INDIA</td>\n",
       "      <td>Y</td>\n",
       "      <td>157518.40</td>\n",
       "      <td>2016.00</td>\n",
       "      <td>ST. LOUIS, MISSOURI</td>\n",
       "      <td>-90.20</td>\n",
       "      <td>38.63</td>\n",
       "    </tr>\n",
       "  </tbody>\n",
       "</table>\n",
       "</div>"
      ],
      "text/plain": [
       "           CASE_STATUS                                      EMPLOYER_NAME  \\\n",
       "1  CERTIFIED-WITHDRAWN                             UNIVERSITY OF MICHIGAN   \n",
       "2  CERTIFIED-WITHDRAWN                             GOODMAN NETWORKS, INC.   \n",
       "3  CERTIFIED-WITHDRAWN                          PORTS AMERICA GROUP, INC.   \n",
       "4  CERTIFIED-WITHDRAWN  GATES CORPORATION, A WHOLLY-OWNED SUBSIDIARY O...   \n",
       "5            WITHDRAWN                          PEABODY INVESTMENTS CORP.   \n",
       "\n",
       "                        SOC_NAME                     JOB_TITLE  \\\n",
       "1  BIOCHEMISTS AND BIOPHYSICISTS  POSTDOCTORAL RESEARCH FELLOW   \n",
       "2               CHIEF EXECUTIVES       CHIEF OPERATING OFFICER   \n",
       "3               CHIEF EXECUTIVES         CHIEF PROCESS OFFICER   \n",
       "4               CHIEF EXECUTIVES   REGIONAL PRESIDEN, AMERICAS   \n",
       "5               CHIEF EXECUTIVES  PRESIDENT MONGOLIA AND INDIA   \n",
       "\n",
       "  FULL_TIME_POSITION  PREVAILING_WAGE    YEAR                 WORKSITE  \\\n",
       "1                  N         36067.00 2016.00      ANN ARBOR, MICHIGAN   \n",
       "2                  Y        242674.00 2016.00             PLANO, TEXAS   \n",
       "3                  Y        193066.00 2016.00  JERSEY CITY, NEW JERSEY   \n",
       "4                  Y        220314.00 2016.00         DENVER, COLORADO   \n",
       "5                  Y        157518.40 2016.00      ST. LOUIS, MISSOURI   \n",
       "\n",
       "      lon   lat  \n",
       "1  -83.74 42.28  \n",
       "2  -96.70 33.02  \n",
       "3  -74.08 40.73  \n",
       "4 -104.99 39.74  \n",
       "5  -90.20 38.63  "
      ]
     },
     "execution_count": 16,
     "metadata": {},
     "output_type": "execute_result"
    }
   ],
   "source": [
    "df.head(5)"
   ]
  },
  {
   "cell_type": "markdown",
   "metadata": {},
   "source": [
    "## Data Preparation (CRISP-DM Step 3)\n",
    "- are there any missing values ?\n",
    "    - below we see that some columns contain null values. We will drop rows containing null values in columns that are of interest to us\n",
    "- are there are categorical variables ?\n",
    "    - Yes, there are categorial variables, everything apart from PREVAILING_WAGE is a categorical variable. We will not convert these into dummies as we are not going to apply any modeling techniques. All our questions can be answered through descriptive statistics of different subsets of applicants.\n",
    "- should we restrict the applications to the ones that have been certified? \n",
    "    - applications might be denied on the basis of wrong information, therefore we will subset the data to those that have been certified\n",
    "- how do we identify data related jobs?\n",
    "    - For the sake of simplicity we shall assume that any job title that contains 'data' as a substring is a data  job. What are the different forms in which the word \"data\" appears in a job title?\n",
    "    - similarly we assume that any job title that contains 'data scien' to be a data scientist-ish jobs. This is a subset of data jobs.\n",
    "- we shall extract state from the WORKSITE column"
   ]
  },
  {
   "cell_type": "code",
   "execution_count": 17,
   "metadata": {
    "ExecuteTime": {
     "end_time": "2019-04-13T02:46:53.517394Z",
     "start_time": "2019-04-13T02:46:53.503213Z"
    }
   },
   "outputs": [
    {
     "data": {
      "text/plain": [
       "(3002458, 10)"
      ]
     },
     "execution_count": 17,
     "metadata": {},
     "output_type": "execute_result"
    }
   ],
   "source": [
    "df.shape"
   ]
  },
  {
   "cell_type": "code",
   "execution_count": 18,
   "metadata": {
    "ExecuteTime": {
     "end_time": "2019-04-13T02:46:55.104459Z",
     "start_time": "2019-04-13T02:46:53.522842Z"
    }
   },
   "outputs": [
    {
     "data": {
      "text/plain": [
       "CASE_STATUS               13\n",
       "EMPLOYER_NAME             59\n",
       "SOC_NAME               17734\n",
       "JOB_TITLE                 43\n",
       "FULL_TIME_POSITION        15\n",
       "PREVAILING_WAGE           85\n",
       "YEAR                      13\n",
       "WORKSITE                   0\n",
       "lon                   107242\n",
       "lat                   107242\n",
       "dtype: int64"
      ]
     },
     "execution_count": 18,
     "metadata": {},
     "output_type": "execute_result"
    }
   ],
   "source": [
    "df.isnull().sum()"
   ]
  },
  {
   "cell_type": "code",
   "execution_count": 19,
   "metadata": {
    "ExecuteTime": {
     "end_time": "2019-04-13T02:46:56.740133Z",
     "start_time": "2019-04-13T02:46:55.107127Z"
    }
   },
   "outputs": [],
   "source": [
    "df = df.dropna(subset=['CASE_STATUS', 'JOB_TITLE', 'PREVAILING_WAGE', 'YEAR'],axis=0)"
   ]
  },
  {
   "cell_type": "markdown",
   "metadata": {},
   "source": [
    "Next we look to derive relevant information from the existing columns:\n",
    "- Use the JOB_TITLE column to infer whether the job falls in the data domain, and more specifically if it is a data science position\n",
    "- extract the State from the WORKSITE column\n",
    "- figure out whether an application is certified or not from the CASE_STATUS columns"
   ]
  },
  {
   "cell_type": "code",
   "execution_count": 20,
   "metadata": {
    "ExecuteTime": {
     "end_time": "2019-04-13T02:46:58.269561Z",
     "start_time": "2019-04-13T02:46:58.263560Z"
    },
    "collapsed": true
   },
   "outputs": [],
   "source": [
    "translator = str.maketrans(string.punctuation, ' '*len(string.punctuation))"
   ]
  },
  {
   "cell_type": "code",
   "execution_count": 21,
   "metadata": {
    "ExecuteTime": {
     "end_time": "2019-04-13T02:47:07.387184Z",
     "start_time": "2019-04-13T02:47:00.392872Z"
    }
   },
   "outputs": [],
   "source": [
    "df['title'] = df['JOB_TITLE'].astype(str).str.lower().apply(lambda _: _.translate(translator))"
   ]
  },
  {
   "cell_type": "code",
   "execution_count": 22,
   "metadata": {
    "ExecuteTime": {
     "end_time": "2019-04-13T02:47:09.461845Z",
     "start_time": "2019-04-13T02:47:07.389318Z"
    }
   },
   "outputs": [],
   "source": [
    "df['is_data_related'] = df['title'].apply(lambda _: ('data' in _))\n",
    "df['is_data_science'] = df['title'].apply(lambda _: ('data scien' in _))"
   ]
  },
  {
   "cell_type": "code",
   "execution_count": 23,
   "metadata": {
    "ExecuteTime": {
     "end_time": "2019-04-13T02:47:16.371236Z",
     "start_time": "2019-04-13T02:47:09.465273Z"
    },
    "collapsed": true
   },
   "outputs": [],
   "source": [
    "df['state'] = df['WORKSITE'].str.split(', ').apply(lambda _: _[-1])"
   ]
  },
  {
   "cell_type": "code",
   "execution_count": 24,
   "metadata": {
    "ExecuteTime": {
     "end_time": "2019-04-13T02:47:18.953559Z",
     "start_time": "2019-04-13T02:47:16.373576Z"
    },
    "collapsed": true
   },
   "outputs": [],
   "source": [
    "data_words = list([_ for lst in df[df.is_data_related]['title'].str.split().values for _ in lst if 'data' in _])"
   ]
  },
  {
   "cell_type": "code",
   "execution_count": 25,
   "metadata": {
    "ExecuteTime": {
     "end_time": "2019-04-13T02:47:18.978194Z",
     "start_time": "2019-04-13T02:47:18.956151Z"
    },
    "scrolled": true
   },
   "outputs": [
    {
     "data": {
      "text/plain": [
       "[('database', 34873),\n",
       " ('data', 29870),\n",
       " ('datastage', 644),\n",
       " ('teradata', 492),\n",
       " ('datawarehouse', 354),\n",
       " ('datapower', 66),\n",
       " ('datawarehousing', 55),\n",
       " ('databases', 33),\n",
       " ('metadata', 29),\n",
       " ('databse', 27),\n",
       " ('datacenter', 23),\n",
       " ('dataware', 20),\n",
       " ('bigdata', 19),\n",
       " ('datasets', 9),\n",
       " ('aiddata', 8),\n",
       " ('medidata', 8),\n",
       " ('exadata', 8),\n",
       " ('teredata', 6),\n",
       " ('terradata', 5),\n",
       " ('datacom', 5)]"
      ]
     },
     "execution_count": 25,
     "metadata": {},
     "output_type": "execute_result"
    }
   ],
   "source": [
    "Counter(data_words).most_common(20)"
   ]
  },
  {
   "cell_type": "code",
   "execution_count": 26,
   "metadata": {
    "ExecuteTime": {
     "end_time": "2019-04-13T02:47:19.143879Z",
     "start_time": "2019-04-13T02:47:18.981123Z"
    },
    "collapsed": true
   },
   "outputs": [],
   "source": [
    "df['is_cert'] = df.CASE_STATUS.isin(['CERTIFIED', 'CERTIFIED-WITHDRAWN'])"
   ]
  },
  {
   "cell_type": "markdown",
   "metadata": {},
   "source": [
    "- we only choose to retain those applications which are certified. Denied applications contain incorrect/missing information and are therefore rejected by USCIS"
   ]
  },
  {
   "cell_type": "code",
   "execution_count": 27,
   "metadata": {
    "ExecuteTime": {
     "end_time": "2019-04-13T02:47:21.281643Z",
     "start_time": "2019-04-13T02:47:19.146688Z"
    },
    "collapsed": true
   },
   "outputs": [],
   "source": [
    "df = df[df.is_cert].copy()"
   ]
  },
  {
   "cell_type": "code",
   "execution_count": 28,
   "metadata": {
    "ExecuteTime": {
     "end_time": "2019-04-13T02:47:21.380039Z",
     "start_time": "2019-04-13T02:47:21.283738Z"
    },
    "collapsed": true
   },
   "outputs": [],
   "source": [
    "df['YEAR'] = df.YEAR.astype('Int64')"
   ]
  },
  {
   "cell_type": "markdown",
   "metadata": {},
   "source": [
    "### Number of jobs in the data domain."
   ]
  },
  {
   "cell_type": "code",
   "execution_count": 29,
   "metadata": {
    "ExecuteTime": {
     "end_time": "2019-04-13T02:47:21.456245Z",
     "start_time": "2019-04-13T02:47:21.382937Z"
    }
   },
   "outputs": [
    {
     "data": {
      "text/plain": [
       "False    2755510\n",
       "True       62769\n",
       "Name: is_data_related, dtype: int64"
      ]
     },
     "execution_count": 29,
     "metadata": {},
     "output_type": "execute_result"
    }
   ],
   "source": [
    "df.is_data_related.value_counts()"
   ]
  },
  {
   "cell_type": "code",
   "execution_count": 30,
   "metadata": {
    "ExecuteTime": {
     "end_time": "2019-04-13T02:47:21.525682Z",
     "start_time": "2019-04-13T02:47:21.459207Z"
    }
   },
   "outputs": [
    {
     "data": {
      "text/plain": [
       "False   0.98\n",
       "True    0.02\n",
       "Name: is_data_related, dtype: float64"
      ]
     },
     "execution_count": 30,
     "metadata": {},
     "output_type": "execute_result"
    }
   ],
   "source": [
    "df.is_data_related.value_counts()/df.shape[0]"
   ]
  },
  {
   "cell_type": "markdown",
   "metadata": {},
   "source": [
    "### Employers"
   ]
  },
  {
   "cell_type": "code",
   "execution_count": 31,
   "metadata": {
    "ExecuteTime": {
     "end_time": "2019-04-13T02:47:21.658328Z",
     "start_time": "2019-04-13T02:47:21.530442Z"
    }
   },
   "outputs": [
    {
     "data": {
      "text/plain": [
       "TATA CONSULTANCY SERVICES LIMITED    3479\n",
       "CAPGEMINI AMERICA INC                1043\n",
       "WIPRO LIMITED                         965\n",
       "IBM INDIA PRIVATE LIMITED             730\n",
       "ECLINICALWORKS, LLC                   490\n",
       "INFOLOB SOLUTIONS, INC.               445\n",
       "FUJITSU AMERICA, INC.                 409\n",
       "CAPITAL ONE SERVICES, LLC             390\n",
       "AMAZON CORPORATE LLC                  374\n",
       "SREE INFOTECH LLC                     352\n",
       "TECH MAHINDRA (AMERICAS),INC.         339\n",
       "TEK SERVICES LLC                      275\n",
       "FACEBOOK, INC.                        269\n",
       "LARSEN & TOUBRO INFOTECH LIMITED      251\n",
       "MICROSOFT CORPORATION                 250\n",
       "JPMORGAN CHASE & CO.                  234\n",
       "ADS ALLIANCE DATA SYSTEMS, INC.       211\n",
       "POPULUS GROUP                         207\n",
       "SIRI INFOSOLUTIONS INC.               207\n",
       "IGATE TECHNOLOGIES INC.               198\n",
       "Name: EMPLOYER_NAME, dtype: int64"
      ]
     },
     "execution_count": 31,
     "metadata": {},
     "output_type": "execute_result"
    }
   ],
   "source": [
    "data_employers = df[df.is_data_related].EMPLOYER_NAME.value_counts()\n",
    "data_employers.sort_values(ascending=False)[:20]"
   ]
  },
  {
   "cell_type": "code",
   "execution_count": 32,
   "metadata": {
    "ExecuteTime": {
     "end_time": "2019-04-13T02:47:21.712314Z",
     "start_time": "2019-04-13T02:47:21.662112Z"
    }
   },
   "outputs": [
    {
     "data": {
      "text/plain": [
       "False    2814910\n",
       "True        3369\n",
       "Name: is_data_science, dtype: int64"
      ]
     },
     "execution_count": 32,
     "metadata": {},
     "output_type": "execute_result"
    }
   ],
   "source": [
    "df.is_data_science.value_counts()"
   ]
  },
  {
   "cell_type": "markdown",
   "metadata": {},
   "source": [
    "#### What fraction of all data related applications is made up by data science positions?\n",
    "- turns out 5% of all jobs in the data domain are"
   ]
  },
  {
   "cell_type": "code",
   "execution_count": 33,
   "metadata": {
    "ExecuteTime": {
     "end_time": "2019-04-13T02:47:21.838640Z",
     "start_time": "2019-04-13T02:47:21.715885Z"
    }
   },
   "outputs": [
    {
     "data": {
      "text/plain": [
       "False   0.95\n",
       "True    0.05\n",
       "Name: is_data_science, dtype: float64"
      ]
     },
     "execution_count": 33,
     "metadata": {},
     "output_type": "execute_result"
    }
   ],
   "source": [
    "df[df.is_data_related].is_data_science.value_counts()/df.is_data_related.sum()"
   ]
  },
  {
   "cell_type": "markdown",
   "metadata": {},
   "source": [
    "#### Which employers petition for the most data scientists?\n",
    "- Some very large and well known tech companies"
   ]
  },
  {
   "cell_type": "code",
   "execution_count": 34,
   "metadata": {
    "ExecuteTime": {
     "end_time": "2019-04-13T02:47:21.879462Z",
     "start_time": "2019-04-13T02:47:21.842638Z"
    },
    "scrolled": true
   },
   "outputs": [
    {
     "data": {
      "text/plain": [
       "MICROSOFT CORPORATION            188\n",
       "FACEBOOK, INC.                   119\n",
       "LINKEDIN CORPORATION              90\n",
       "UBER TECHNOLOGIES, INC.           57\n",
       "TWITTER, INC.                     54\n",
       "WAL-MART ASSOCIATES, INC.         46\n",
       "NETFLIX, INC.                     34\n",
       "GROUPON, INC.                     30\n",
       "PAYPAL, INC.                      28\n",
       "IBM CORPORATION                   26\n",
       "APPLE INC.                        26\n",
       "AIRBNB, INC.                      23\n",
       "EMC CORPORATION                   23\n",
       "CAPITAL ONE SERVICES, LLC         21\n",
       "AGILONE, INC.                     19\n",
       "GSR TECHNOLOGIES INC.             19\n",
       "AIG PC GLOBAL SERVICES, INC.      17\n",
       "EBAY INC.                         16\n",
       "THE NIELSEN COMPANY (US), LLC     16\n",
       "MONSANTO COMPANY                  16\n",
       "Name: EMPLOYER_NAME, dtype: int64"
      ]
     },
     "execution_count": 34,
     "metadata": {},
     "output_type": "execute_result"
    }
   ],
   "source": [
    "data_science_employers = df[df.is_data_science].EMPLOYER_NAME.value_counts()\n",
    "data_science_employers.sort_values(ascending=False)[:20]"
   ]
  },
  {
   "cell_type": "markdown",
   "metadata": {},
   "source": [
    "#### Among companies that hire at least 100 data related jobs, what fraction of those are data scientists"
   ]
  },
  {
   "cell_type": "code",
   "execution_count": 35,
   "metadata": {
    "ExecuteTime": {
     "end_time": "2019-04-13T02:47:21.998919Z",
     "start_time": "2019-04-13T02:47:21.884466Z"
    },
    "collapsed": true
   },
   "outputs": [],
   "source": [
    "data_employer_df = pd.concat([data_employers, data_science_employers], axis=1)\n",
    "data_employer_df.columns = ['all_data','data_science']\n",
    "data_employer_df = data_employer_df.fillna(0).astype(int)\n",
    "data_employer_df['data_science_pct'] = data_employer_df['data_science'] * 100 / data_employer_df['all_data']"
   ]
  },
  {
   "cell_type": "code",
   "execution_count": 36,
   "metadata": {
    "ExecuteTime": {
     "end_time": "2019-04-13T02:47:22.028858Z",
     "start_time": "2019-04-13T02:47:22.002418Z"
    },
    "scrolled": true
   },
   "outputs": [
    {
     "data": {
      "text/html": [
       "<div>\n",
       "<style>\n",
       "    .dataframe thead tr:only-child th {\n",
       "        text-align: right;\n",
       "    }\n",
       "\n",
       "    .dataframe thead th {\n",
       "        text-align: left;\n",
       "    }\n",
       "\n",
       "    .dataframe tbody tr th {\n",
       "        vertical-align: top;\n",
       "    }\n",
       "</style>\n",
       "<table border=\"1\" class=\"dataframe\">\n",
       "  <thead>\n",
       "    <tr style=\"text-align: right;\">\n",
       "      <th></th>\n",
       "      <th>all_data</th>\n",
       "      <th>data_science</th>\n",
       "      <th>data_science_pct</th>\n",
       "    </tr>\n",
       "  </thead>\n",
       "  <tbody>\n",
       "    <tr>\n",
       "      <th>MICROSOFT CORPORATION</th>\n",
       "      <td>250</td>\n",
       "      <td>188</td>\n",
       "      <td>75.20</td>\n",
       "    </tr>\n",
       "    <tr>\n",
       "      <th>LINKEDIN CORPORATION</th>\n",
       "      <td>160</td>\n",
       "      <td>90</td>\n",
       "      <td>56.25</td>\n",
       "    </tr>\n",
       "    <tr>\n",
       "      <th>FACEBOOK, INC.</th>\n",
       "      <td>269</td>\n",
       "      <td>119</td>\n",
       "      <td>44.24</td>\n",
       "    </tr>\n",
       "    <tr>\n",
       "      <th>PAYPAL, INC.</th>\n",
       "      <td>104</td>\n",
       "      <td>28</td>\n",
       "      <td>26.92</td>\n",
       "    </tr>\n",
       "    <tr>\n",
       "      <th>APPLE INC.</th>\n",
       "      <td>126</td>\n",
       "      <td>26</td>\n",
       "      <td>20.63</td>\n",
       "    </tr>\n",
       "    <tr>\n",
       "      <th>INTUIT INC.</th>\n",
       "      <td>124</td>\n",
       "      <td>12</td>\n",
       "      <td>9.68</td>\n",
       "    </tr>\n",
       "    <tr>\n",
       "      <th>SALESFORCE.COM, INC.</th>\n",
       "      <td>101</td>\n",
       "      <td>9</td>\n",
       "      <td>8.91</td>\n",
       "    </tr>\n",
       "    <tr>\n",
       "      <th>CAPITAL ONE, NATIONAL ASSOCIATION</th>\n",
       "      <td>138</td>\n",
       "      <td>11</td>\n",
       "      <td>7.97</td>\n",
       "    </tr>\n",
       "    <tr>\n",
       "      <th>ACCENTURE LLP</th>\n",
       "      <td>124</td>\n",
       "      <td>8</td>\n",
       "      <td>6.45</td>\n",
       "    </tr>\n",
       "    <tr>\n",
       "      <th>JPMORGAN CHASE &amp; CO.</th>\n",
       "      <td>234</td>\n",
       "      <td>13</td>\n",
       "      <td>5.56</td>\n",
       "    </tr>\n",
       "    <tr>\n",
       "      <th>EXPEDIA, INC.</th>\n",
       "      <td>128</td>\n",
       "      <td>7</td>\n",
       "      <td>5.47</td>\n",
       "    </tr>\n",
       "    <tr>\n",
       "      <th>CAPITAL ONE SERVICES, LLC</th>\n",
       "      <td>390</td>\n",
       "      <td>21</td>\n",
       "      <td>5.38</td>\n",
       "    </tr>\n",
       "    <tr>\n",
       "      <th>ADS ALLIANCE DATA SYSTEMS, INC.</th>\n",
       "      <td>211</td>\n",
       "      <td>7</td>\n",
       "      <td>3.32</td>\n",
       "    </tr>\n",
       "    <tr>\n",
       "      <th>YAHOO! INC.</th>\n",
       "      <td>115</td>\n",
       "      <td>2</td>\n",
       "      <td>1.74</td>\n",
       "    </tr>\n",
       "    <tr>\n",
       "      <th>ECLINICALWORKS, LLC</th>\n",
       "      <td>490</td>\n",
       "      <td>2</td>\n",
       "      <td>0.41</td>\n",
       "    </tr>\n",
       "    <tr>\n",
       "      <th>IBM INDIA PRIVATE LIMITED</th>\n",
       "      <td>730</td>\n",
       "      <td>1</td>\n",
       "      <td>0.14</td>\n",
       "    </tr>\n",
       "  </tbody>\n",
       "</table>\n",
       "</div>"
      ],
      "text/plain": [
       "                                   all_data  data_science  data_science_pct\n",
       "MICROSOFT CORPORATION                   250           188             75.20\n",
       "LINKEDIN CORPORATION                    160            90             56.25\n",
       "FACEBOOK, INC.                          269           119             44.24\n",
       "PAYPAL, INC.                            104            28             26.92\n",
       "APPLE INC.                              126            26             20.63\n",
       "INTUIT INC.                             124            12              9.68\n",
       "SALESFORCE.COM, INC.                    101             9              8.91\n",
       "CAPITAL ONE, NATIONAL ASSOCIATION       138            11              7.97\n",
       "ACCENTURE LLP                           124             8              6.45\n",
       "JPMORGAN CHASE & CO.                    234            13              5.56\n",
       "EXPEDIA, INC.                           128             7              5.47\n",
       "CAPITAL ONE SERVICES, LLC               390            21              5.38\n",
       "ADS ALLIANCE DATA SYSTEMS, INC.         211             7              3.32\n",
       "YAHOO! INC.                             115             2              1.74\n",
       "ECLINICALWORKS, LLC                     490             2              0.41\n",
       "IBM INDIA PRIVATE LIMITED               730             1              0.14"
      ]
     },
     "execution_count": 36,
     "metadata": {},
     "output_type": "execute_result"
    }
   ],
   "source": [
    "data_employer_df[(data_employer_df.all_data >= 100) & (data_employer_df.data_science > 0)].sort_values('data_science_pct', ascending=False)"
   ]
  },
  {
   "cell_type": "markdown",
   "metadata": {
    "ExecuteTime": {
     "end_time": "2019-04-13T02:26:54.930126Z",
     "start_time": "2019-04-13T02:26:54.916071Z"
    }
   },
   "source": [
    "### Data Modeling (CRISP-DM step 4)\n",
    "- since all our questions can be answered by looking at descriptive statistics, we will not require any modeling"
   ]
  },
  {
   "cell_type": "markdown",
   "metadata": {},
   "source": [
    "### Evaluating Results (CRISP-DM step 5)\n",
    "- we will go through each question below and attempt to derive the statistics and plot them out in order answer them."
   ]
  },
  {
   "cell_type": "markdown",
   "metadata": {
    "ExecuteTime": {
     "end_time": "2019-04-07T21:13:28.005267Z",
     "start_time": "2019-04-07T21:13:27.999199Z"
    }
   },
   "source": [
    "### Q: Have data science H-1B applications increased over time?\n",
    "there are several subuestions here:\n",
    "1. Have job applications in the data domain increased over time?\n",
    "2. Have applicants in the data domain grown faster than the overall pool of H-1B applications?\n",
    "3. Have visa applications for data science jobs increased over time?\n",
    "4. Have the number of data science applications grown faster compared to the pool of data related applications?"
   ]
  },
  {
   "cell_type": "code",
   "execution_count": 37,
   "metadata": {
    "ExecuteTime": {
     "end_time": "2019-04-13T02:47:52.912557Z",
     "start_time": "2019-04-13T02:47:52.582533Z"
    },
    "collapsed": true
   },
   "outputs": [],
   "source": [
    "data_by_year = df.groupby('YEAR').agg({'is_data_related':'sum', 'is_data_science':'sum', 'JOB_TITLE':'count'}).astype(int)\n",
    "data_by_year = data_by_year.rename(columns={'JOB_TITLE':'total'})\n",
    "data_by_year['data_pct'] = data_by_year['is_data_related'] * 100 / data_by_year['total']\n",
    "data_by_year['data_science_pct'] = data_by_year['is_data_science'] / data_by_year['is_data_related']"
   ]
  },
  {
   "cell_type": "code",
   "execution_count": 38,
   "metadata": {
    "ExecuteTime": {
     "end_time": "2019-04-13T02:47:53.029877Z",
     "start_time": "2019-04-13T02:47:53.022714Z"
    },
    "collapsed": true
   },
   "outputs": [],
   "source": [
    "def plot_bar_graph(col, title, df=data_by_year):\n",
    "    \"\"\"\n",
    "    This function plots a bar graph of a given column in a given dataframe.\n",
    "    Args:\n",
    "        col: name of the column, which should exists in the dataframe df\n",
    "        title: title to attach to the graph\n",
    "        df: dataframe consisting of the data to be plotted\n",
    "    \"\"\"\n",
    "    df[col].plot(kind='bar', title=title)"
   ]
  },
  {
   "cell_type": "code",
   "execution_count": 39,
   "metadata": {
    "ExecuteTime": {
     "end_time": "2019-04-13T02:47:53.838141Z",
     "start_time": "2019-04-13T02:47:53.588007Z"
    }
   },
   "outputs": [
    {
     "data": {
      "image/png": "[encoded data removed]",
      "text/plain": [
       "<Figure size 432x288 with 1 Axes>"
      ]
     },
     "metadata": {},
     "output_type": "display_data"
    }
   ],
   "source": [
    "plot_bar_graph('is_data_related', 'All Data Jobs')"
   ]
  },
  {
   "cell_type": "code",
   "execution_count": 40,
   "metadata": {
    "ExecuteTime": {
     "end_time": "2019-04-13T02:47:54.324139Z",
     "start_time": "2019-04-13T02:47:54.113434Z"
    }
   },
   "outputs": [
    {
     "data": {
      "image/png": "[encoded data removed]",
      "text/plain": [
       "<Figure size 432x288 with 1 Axes>"
      ]
     },
     "metadata": {},
     "output_type": "display_data"
    }
   ],
   "source": [
    "plot_bar_graph('data_pct', 'All Data Jobs Percentage')"
   ]
  },
  {
   "cell_type": "code",
   "execution_count": 41,
   "metadata": {
    "ExecuteTime": {
     "end_time": "2019-04-13T02:47:54.790620Z",
     "start_time": "2019-04-13T02:47:54.532217Z"
    }
   },
   "outputs": [
    {
     "data": {
      "image/png": "[encoded data removed]",
      "text/plain": [
       "<Figure size 432x288 with 1 Axes>"
      ]
     },
     "metadata": {},
     "output_type": "display_data"
    }
   ],
   "source": [
    "plot_bar_graph('is_data_science', 'Data Science JObs')"
   ]
  },
  {
   "cell_type": "code",
   "execution_count": 42,
   "metadata": {
    "ExecuteTime": {
     "end_time": "2019-04-13T02:47:55.186516Z",
     "start_time": "2019-04-13T02:47:54.948001Z"
    }
   },
   "outputs": [
    {
     "data": {
      "image/png": "[encoded data removed]",
      "text/plain": [
       "<Figure size 432x288 with 1 Axes>"
      ]
     },
     "metadata": {},
     "output_type": "display_data"
    }
   ],
   "source": [
    "plot_bar_graph('data_science_pct', 'Data Science Jobs Proportion')"
   ]
  },
  {
   "cell_type": "markdown",
   "metadata": {
    "ExecuteTime": {
     "end_time": "2019-04-07T21:59:13.449371Z",
     "start_time": "2019-04-07T21:59:13.442194Z"
    }
   },
   "source": [
    "### Q: Where are the data jobs located?"
   ]
  },
  {
   "cell_type": "code",
   "execution_count": 43,
   "metadata": {
    "ExecuteTime": {
     "end_time": "2019-04-13T02:47:56.846678Z",
     "start_time": "2019-04-13T02:47:56.163616Z"
    },
    "collapsed": true
   },
   "outputs": [],
   "source": [
    "data_by_loc = df.groupby('WORKSITE').agg({'is_data_related':'sum', 'is_data_science':'sum', 'JOB_TITLE':'count'}).astype(int)\n",
    "data_by_loc = data_by_loc.rename(columns={'JOB_TITLE':'total'})"
   ]
  },
  {
   "cell_type": "code",
   "execution_count": 44,
   "metadata": {
    "ExecuteTime": {
     "end_time": "2019-04-13T02:47:57.364830Z",
     "start_time": "2019-04-13T02:47:56.848628Z"
    },
    "collapsed": true
   },
   "outputs": [],
   "source": [
    "data_by_state = df.groupby('state').agg({'is_data_related':'sum', 'is_data_science':'sum', 'JOB_TITLE':'count'}).astype(int)\n",
    "data_by_state = data_by_state.rename(columns={'JOB_TITLE':'total'})\n",
    "data_by_state = data_by_state.sort_values('is_data_science', ascending=False)\n",
    "data_by_state['cum_data_science'] = data_by_state['is_data_science'].cumsum()*100/data_by_state.is_data_science.sum()"
   ]
  },
  {
   "cell_type": "code",
   "execution_count": 45,
   "metadata": {
    "ExecuteTime": {
     "end_time": "2019-04-13T02:47:57.431898Z",
     "start_time": "2019-04-13T02:47:57.374137Z"
    },
    "scrolled": true
   },
   "outputs": [
    {
     "data": {
      "text/html": [
       "<div>\n",
       "<style>\n",
       "    .dataframe thead tr:only-child th {\n",
       "        text-align: right;\n",
       "    }\n",
       "\n",
       "    .dataframe thead th {\n",
       "        text-align: left;\n",
       "    }\n",
       "\n",
       "    .dataframe tbody tr th {\n",
       "        vertical-align: top;\n",
       "    }\n",
       "</style>\n",
       "<table border=\"1\" class=\"dataframe\">\n",
       "  <thead>\n",
       "    <tr style=\"text-align: right;\">\n",
       "      <th></th>\n",
       "      <th>is_data_related</th>\n",
       "      <th>is_data_science</th>\n",
       "      <th>total</th>\n",
       "      <th>cum_data_science</th>\n",
       "    </tr>\n",
       "    <tr>\n",
       "      <th>state</th>\n",
       "      <th></th>\n",
       "      <th></th>\n",
       "      <th></th>\n",
       "      <th></th>\n",
       "    </tr>\n",
       "  </thead>\n",
       "  <tbody>\n",
       "    <tr>\n",
       "      <th>CALIFORNIA</th>\n",
       "      <td>11963</td>\n",
       "      <td>1677</td>\n",
       "      <td>524924</td>\n",
       "      <td>49.78</td>\n",
       "    </tr>\n",
       "    <tr>\n",
       "      <th>NEW YORK</th>\n",
       "      <td>4540</td>\n",
       "      <td>378</td>\n",
       "      <td>269647</td>\n",
       "      <td>61.00</td>\n",
       "    </tr>\n",
       "    <tr>\n",
       "      <th>WASHINGTON</th>\n",
       "      <td>2246</td>\n",
       "      <td>249</td>\n",
       "      <td>98126</td>\n",
       "      <td>68.39</td>\n",
       "    </tr>\n",
       "    <tr>\n",
       "      <th>MASSACHUSETTS</th>\n",
       "      <td>3178</td>\n",
       "      <td>214</td>\n",
       "      <td>109403</td>\n",
       "      <td>74.74</td>\n",
       "    </tr>\n",
       "    <tr>\n",
       "      <th>ILLINOIS</th>\n",
       "      <td>3109</td>\n",
       "      <td>115</td>\n",
       "      <td>152290</td>\n",
       "      <td>78.15</td>\n",
       "    </tr>\n",
       "    <tr>\n",
       "      <th>TEXAS</th>\n",
       "      <td>5985</td>\n",
       "      <td>113</td>\n",
       "      <td>276825</td>\n",
       "      <td>81.51</td>\n",
       "    </tr>\n",
       "    <tr>\n",
       "      <th>NEW JERSEY</th>\n",
       "      <td>5277</td>\n",
       "      <td>86</td>\n",
       "      <td>202729</td>\n",
       "      <td>84.06</td>\n",
       "    </tr>\n",
       "    <tr>\n",
       "      <th>GEORGIA</th>\n",
       "      <td>2919</td>\n",
       "      <td>65</td>\n",
       "      <td>97272</td>\n",
       "      <td>85.99</td>\n",
       "    </tr>\n",
       "    <tr>\n",
       "      <th>VIRGINIA</th>\n",
       "      <td>2930</td>\n",
       "      <td>55</td>\n",
       "      <td>84665</td>\n",
       "      <td>87.62</td>\n",
       "    </tr>\n",
       "    <tr>\n",
       "      <th>OHIO</th>\n",
       "      <td>1531</td>\n",
       "      <td>45</td>\n",
       "      <td>72618</td>\n",
       "      <td>88.96</td>\n",
       "    </tr>\n",
       "    <tr>\n",
       "      <th>NORTH CAROLINA</th>\n",
       "      <td>2070</td>\n",
       "      <td>44</td>\n",
       "      <td>75701</td>\n",
       "      <td>90.26</td>\n",
       "    </tr>\n",
       "    <tr>\n",
       "      <th>MISSOURI</th>\n",
       "      <td>755</td>\n",
       "      <td>31</td>\n",
       "      <td>32911</td>\n",
       "      <td>91.18</td>\n",
       "    </tr>\n",
       "    <tr>\n",
       "      <th>PENNSYLVANIA</th>\n",
       "      <td>1850</td>\n",
       "      <td>30</td>\n",
       "      <td>104516</td>\n",
       "      <td>92.07</td>\n",
       "    </tr>\n",
       "    <tr>\n",
       "      <th>MICHIGAN</th>\n",
       "      <td>1326</td>\n",
       "      <td>30</td>\n",
       "      <td>78285</td>\n",
       "      <td>92.97</td>\n",
       "    </tr>\n",
       "    <tr>\n",
       "      <th>FLORIDA</th>\n",
       "      <td>1585</td>\n",
       "      <td>23</td>\n",
       "      <td>97124</td>\n",
       "      <td>93.65</td>\n",
       "    </tr>\n",
       "    <tr>\n",
       "      <th>UTAH</th>\n",
       "      <td>231</td>\n",
       "      <td>22</td>\n",
       "      <td>12081</td>\n",
       "      <td>94.30</td>\n",
       "    </tr>\n",
       "    <tr>\n",
       "      <th>COLORADO</th>\n",
       "      <td>708</td>\n",
       "      <td>21</td>\n",
       "      <td>29828</td>\n",
       "      <td>94.92</td>\n",
       "    </tr>\n",
       "    <tr>\n",
       "      <th>DISTRICT OF COLUMBIA</th>\n",
       "      <td>460</td>\n",
       "      <td>18</td>\n",
       "      <td>20825</td>\n",
       "      <td>95.46</td>\n",
       "    </tr>\n",
       "    <tr>\n",
       "      <th>ARIZONA</th>\n",
       "      <td>929</td>\n",
       "      <td>17</td>\n",
       "      <td>39641</td>\n",
       "      <td>95.96</td>\n",
       "    </tr>\n",
       "    <tr>\n",
       "      <th>MARYLAND</th>\n",
       "      <td>1246</td>\n",
       "      <td>16</td>\n",
       "      <td>52351</td>\n",
       "      <td>96.44</td>\n",
       "    </tr>\n",
       "    <tr>\n",
       "      <th>CONNECTICUT</th>\n",
       "      <td>1027</td>\n",
       "      <td>15</td>\n",
       "      <td>47682</td>\n",
       "      <td>96.88</td>\n",
       "    </tr>\n",
       "    <tr>\n",
       "      <th>TENNESSEE</th>\n",
       "      <td>609</td>\n",
       "      <td>15</td>\n",
       "      <td>26022</td>\n",
       "      <td>97.33</td>\n",
       "    </tr>\n",
       "    <tr>\n",
       "      <th>MINNESOTA</th>\n",
       "      <td>1123</td>\n",
       "      <td>12</td>\n",
       "      <td>46293</td>\n",
       "      <td>97.68</td>\n",
       "    </tr>\n",
       "    <tr>\n",
       "      <th>OREGON</th>\n",
       "      <td>248</td>\n",
       "      <td>11</td>\n",
       "      <td>22362</td>\n",
       "      <td>98.01</td>\n",
       "    </tr>\n",
       "    <tr>\n",
       "      <th>INDIANA</th>\n",
       "      <td>577</td>\n",
       "      <td>9</td>\n",
       "      <td>28488</td>\n",
       "      <td>98.28</td>\n",
       "    </tr>\n",
       "    <tr>\n",
       "      <th>ARKANSAS</th>\n",
       "      <td>229</td>\n",
       "      <td>8</td>\n",
       "      <td>14009</td>\n",
       "      <td>98.52</td>\n",
       "    </tr>\n",
       "    <tr>\n",
       "      <th>SOUTH CAROLINA</th>\n",
       "      <td>213</td>\n",
       "      <td>6</td>\n",
       "      <td>11969</td>\n",
       "      <td>98.69</td>\n",
       "    </tr>\n",
       "    <tr>\n",
       "      <th>NEVADA</th>\n",
       "      <td>109</td>\n",
       "      <td>5</td>\n",
       "      <td>6549</td>\n",
       "      <td>98.84</td>\n",
       "    </tr>\n",
       "    <tr>\n",
       "      <th>KENTUCKY</th>\n",
       "      <td>278</td>\n",
       "      <td>5</td>\n",
       "      <td>11868</td>\n",
       "      <td>98.99</td>\n",
       "    </tr>\n",
       "    <tr>\n",
       "      <th>KANSAS</th>\n",
       "      <td>209</td>\n",
       "      <td>5</td>\n",
       "      <td>12876</td>\n",
       "      <td>99.14</td>\n",
       "    </tr>\n",
       "    <tr>\n",
       "      <th>IOWA</th>\n",
       "      <td>371</td>\n",
       "      <td>5</td>\n",
       "      <td>15796</td>\n",
       "      <td>99.29</td>\n",
       "    </tr>\n",
       "    <tr>\n",
       "      <th>RHODE ISLAND</th>\n",
       "      <td>312</td>\n",
       "      <td>5</td>\n",
       "      <td>11179</td>\n",
       "      <td>99.44</td>\n",
       "    </tr>\n",
       "    <tr>\n",
       "      <th>WISCONSIN</th>\n",
       "      <td>687</td>\n",
       "      <td>4</td>\n",
       "      <td>31049</td>\n",
       "      <td>99.55</td>\n",
       "    </tr>\n",
       "    <tr>\n",
       "      <th>HAWAII</th>\n",
       "      <td>72</td>\n",
       "      <td>4</td>\n",
       "      <td>3255</td>\n",
       "      <td>99.67</td>\n",
       "    </tr>\n",
       "    <tr>\n",
       "      <th>DELAWARE</th>\n",
       "      <td>419</td>\n",
       "      <td>3</td>\n",
       "      <td>17341</td>\n",
       "      <td>99.76</td>\n",
       "    </tr>\n",
       "    <tr>\n",
       "      <th>NEBRASKA</th>\n",
       "      <td>286</td>\n",
       "      <td>2</td>\n",
       "      <td>8728</td>\n",
       "      <td>99.82</td>\n",
       "    </tr>\n",
       "    <tr>\n",
       "      <th>IDAHO</th>\n",
       "      <td>60</td>\n",
       "      <td>2</td>\n",
       "      <td>3844</td>\n",
       "      <td>99.88</td>\n",
       "    </tr>\n",
       "    <tr>\n",
       "      <th>MISSISSIPPI</th>\n",
       "      <td>54</td>\n",
       "      <td>1</td>\n",
       "      <td>3821</td>\n",
       "      <td>99.91</td>\n",
       "    </tr>\n",
       "    <tr>\n",
       "      <th>NEW HAMPSHIRE</th>\n",
       "      <td>207</td>\n",
       "      <td>1</td>\n",
       "      <td>9378</td>\n",
       "      <td>99.94</td>\n",
       "    </tr>\n",
       "    <tr>\n",
       "      <th>OKLAHOMA</th>\n",
       "      <td>218</td>\n",
       "      <td>1</td>\n",
       "      <td>9767</td>\n",
       "      <td>99.97</td>\n",
       "    </tr>\n",
       "    <tr>\n",
       "      <th>ALABAMA</th>\n",
       "      <td>113</td>\n",
       "      <td>1</td>\n",
       "      <td>9388</td>\n",
       "      <td>100.00</td>\n",
       "    </tr>\n",
       "    <tr>\n",
       "      <th>WEST VIRGINIA</th>\n",
       "      <td>38</td>\n",
       "      <td>0</td>\n",
       "      <td>2794</td>\n",
       "      <td>100.00</td>\n",
       "    </tr>\n",
       "    <tr>\n",
       "      <th>VERMONT</th>\n",
       "      <td>26</td>\n",
       "      <td>0</td>\n",
       "      <td>1771</td>\n",
       "      <td>100.00</td>\n",
       "    </tr>\n",
       "    <tr>\n",
       "      <th>MONTANA</th>\n",
       "      <td>17</td>\n",
       "      <td>0</td>\n",
       "      <td>867</td>\n",
       "      <td>100.00</td>\n",
       "    </tr>\n",
       "    <tr>\n",
       "      <th>SOUTH DAKOTA</th>\n",
       "      <td>19</td>\n",
       "      <td>0</td>\n",
       "      <td>1738</td>\n",
       "      <td>100.00</td>\n",
       "    </tr>\n",
       "    <tr>\n",
       "      <th>PUERTO RICO</th>\n",
       "      <td>22</td>\n",
       "      <td>0</td>\n",
       "      <td>1196</td>\n",
       "      <td>100.00</td>\n",
       "    </tr>\n",
       "    <tr>\n",
       "      <th>NORTH DAKOTA</th>\n",
       "      <td>28</td>\n",
       "      <td>0</td>\n",
       "      <td>2672</td>\n",
       "      <td>100.00</td>\n",
       "    </tr>\n",
       "    <tr>\n",
       "      <th>NEW MEXICO</th>\n",
       "      <td>45</td>\n",
       "      <td>0</td>\n",
       "      <td>5010</td>\n",
       "      <td>100.00</td>\n",
       "    </tr>\n",
       "    <tr>\n",
       "      <th>NA</th>\n",
       "      <td>7</td>\n",
       "      <td>0</td>\n",
       "      <td>2722</td>\n",
       "      <td>100.00</td>\n",
       "    </tr>\n",
       "    <tr>\n",
       "      <th>ALASKA</th>\n",
       "      <td>6</td>\n",
       "      <td>0</td>\n",
       "      <td>1205</td>\n",
       "      <td>100.00</td>\n",
       "    </tr>\n",
       "    <tr>\n",
       "      <th>MAINE</th>\n",
       "      <td>85</td>\n",
       "      <td>0</td>\n",
       "      <td>3676</td>\n",
       "      <td>100.00</td>\n",
       "    </tr>\n",
       "    <tr>\n",
       "      <th>LOUISIANA</th>\n",
       "      <td>216</td>\n",
       "      <td>0</td>\n",
       "      <td>10441</td>\n",
       "      <td>100.00</td>\n",
       "    </tr>\n",
       "    <tr>\n",
       "      <th>WYOMING</th>\n",
       "      <td>1</td>\n",
       "      <td>0</td>\n",
       "      <td>761</td>\n",
       "      <td>100.00</td>\n",
       "    </tr>\n",
       "  </tbody>\n",
       "</table>\n",
       "</div>"
      ],
      "text/plain": [
       "                      is_data_related  is_data_science   total  \\\n",
       "state                                                            \n",
       "CALIFORNIA                      11963             1677  524924   \n",
       "NEW YORK                         4540              378  269647   \n",
       "WASHINGTON                       2246              249   98126   \n",
       "MASSACHUSETTS                    3178              214  109403   \n",
       "ILLINOIS                         3109              115  152290   \n",
       "TEXAS                            5985              113  276825   \n",
       "NEW JERSEY                       5277               86  202729   \n",
       "GEORGIA                          2919               65   97272   \n",
       "VIRGINIA                         2930               55   84665   \n",
       "OHIO                             1531               45   72618   \n",
       "NORTH CAROLINA                   2070               44   75701   \n",
       "MISSOURI                          755               31   32911   \n",
       "PENNSYLVANIA                     1850               30  104516   \n",
       "MICHIGAN                         1326               30   78285   \n",
       "FLORIDA                          1585               23   97124   \n",
       "UTAH                              231               22   12081   \n",
       "COLORADO                          708               21   29828   \n",
       "DISTRICT OF COLUMBIA              460               18   20825   \n",
       "ARIZONA                           929               17   39641   \n",
       "MARYLAND                         1246               16   52351   \n",
       "CONNECTICUT                      1027               15   47682   \n",
       "TENNESSEE                         609               15   26022   \n",
       "MINNESOTA                        1123               12   46293   \n",
       "OREGON                            248               11   22362   \n",
       "INDIANA                           577                9   28488   \n",
       "ARKANSAS                          229                8   14009   \n",
       "SOUTH CAROLINA                    213                6   11969   \n",
       "NEVADA                            109                5    6549   \n",
       "KENTUCKY                          278                5   11868   \n",
       "KANSAS                            209                5   12876   \n",
       "IOWA                              371                5   15796   \n",
       "RHODE ISLAND                      312                5   11179   \n",
       "WISCONSIN                         687                4   31049   \n",
       "HAWAII                             72                4    3255   \n",
       "DELAWARE                          419                3   17341   \n",
       "NEBRASKA                          286                2    8728   \n",
       "IDAHO                              60                2    3844   \n",
       "MISSISSIPPI                        54                1    3821   \n",
       "NEW HAMPSHIRE                     207                1    9378   \n",
       "OKLAHOMA                          218                1    9767   \n",
       "ALABAMA                           113                1    9388   \n",
       "WEST VIRGINIA                      38                0    2794   \n",
       "VERMONT                            26                0    1771   \n",
       "MONTANA                            17                0     867   \n",
       "SOUTH DAKOTA                       19                0    1738   \n",
       "PUERTO RICO                        22                0    1196   \n",
       "NORTH DAKOTA                       28                0    2672   \n",
       "NEW MEXICO                         45                0    5010   \n",
       "NA                                  7                0    2722   \n",
       "ALASKA                              6                0    1205   \n",
       "MAINE                              85                0    3676   \n",
       "LOUISIANA                         216                0   10441   \n",
       "WYOMING                             1                0     761   \n",
       "\n",
       "                      cum_data_science  \n",
       "state                                   \n",
       "CALIFORNIA                       49.78  \n",
       "NEW YORK                         61.00  \n",
       "WASHINGTON                       68.39  \n",
       "MASSACHUSETTS                    74.74  \n",
       "ILLINOIS                         78.15  \n",
       "TEXAS                            81.51  \n",
       "NEW JERSEY                       84.06  \n",
       "GEORGIA                          85.99  \n",
       "VIRGINIA                         87.62  \n",
       "OHIO                             88.96  \n",
       "NORTH CAROLINA                   90.26  \n",
       "MISSOURI                         91.18  \n",
       "PENNSYLVANIA                     92.07  \n",
       "MICHIGAN                         92.97  \n",
       "FLORIDA                          93.65  \n",
       "UTAH                             94.30  \n",
       "COLORADO                         94.92  \n",
       "DISTRICT OF COLUMBIA             95.46  \n",
       "ARIZONA                          95.96  \n",
       "MARYLAND                         96.44  \n",
       "CONNECTICUT                      96.88  \n",
       "TENNESSEE                        97.33  \n",
       "MINNESOTA                        97.68  \n",
       "OREGON                           98.01  \n",
       "INDIANA                          98.28  \n",
       "ARKANSAS                         98.52  \n",
       "SOUTH CAROLINA                   98.69  \n",
       "NEVADA                           98.84  \n",
       "KENTUCKY                         98.99  \n",
       "KANSAS                           99.14  \n",
       "IOWA                             99.29  \n",
       "RHODE ISLAND                     99.44  \n",
       "WISCONSIN                        99.55  \n",
       "HAWAII                           99.67  \n",
       "DELAWARE                         99.76  \n",
       "NEBRASKA                         99.82  \n",
       "IDAHO                            99.88  \n",
       "MISSISSIPPI                      99.91  \n",
       "NEW HAMPSHIRE                    99.94  \n",
       "OKLAHOMA                         99.97  \n",
       "ALABAMA                         100.00  \n",
       "WEST VIRGINIA                   100.00  \n",
       "VERMONT                         100.00  \n",
       "MONTANA                         100.00  \n",
       "SOUTH DAKOTA                    100.00  \n",
       "PUERTO RICO                     100.00  \n",
       "NORTH DAKOTA                    100.00  \n",
       "NEW MEXICO                      100.00  \n",
       "NA                              100.00  \n",
       "ALASKA                          100.00  \n",
       "MAINE                           100.00  \n",
       "LOUISIANA                       100.00  \n",
       "WYOMING                         100.00  "
      ]
     },
     "execution_count": 45,
     "metadata": {},
     "output_type": "execute_result"
    }
   ],
   "source": [
    "data_by_state"
   ]
  },
  {
   "cell_type": "markdown",
   "metadata": {
    "ExecuteTime": {
     "end_time": "2019-04-08T04:22:03.631849Z",
     "start_time": "2019-04-08T04:22:03.621665Z"
    }
   },
   "source": [
    "- Looking at the data above it appears that California has almost 50% of all data science jobs, and the top 6 states (CA, NY, WA, MA, IL, TX) cover more than 80% of all data science jobs.\n",
    "- Next we visualize this data on United States map"
   ]
  },
  {
   "cell_type": "code",
   "execution_count": 46,
   "metadata": {
    "ExecuteTime": {
     "end_time": "2019-04-13T02:48:00.281263Z",
     "start_time": "2019-04-13T02:48:00.199988Z"
    }
   },
   "outputs": [],
   "source": [
    "usa = gpd.read_file('./States 21basic/geo_export_147a1d75-342a-4acc-b46f-b93aaab27e22.shp')"
   ]
  },
  {
   "cell_type": "code",
   "execution_count": 47,
   "metadata": {
    "ExecuteTime": {
     "end_time": "2019-04-13T02:48:00.709918Z",
     "start_time": "2019-04-13T02:48:00.689135Z"
    },
    "collapsed": true
   },
   "outputs": [],
   "source": [
    "state_pct_dict = {k.lower():v for (k,v) in ((100 - data_by_state.cum_data_science)/100).to_dict().items()}\n",
    "\n",
    "usa['color'] = usa.state_name.str.lower().map(state_pct_dict).apply(lambda _: cm.Blues((_ + 0.3) if _ > 0 else 0))"
   ]
  },
  {
   "cell_type": "code",
   "execution_count": 48,
   "metadata": {
    "ExecuteTime": {
     "end_time": "2019-04-13T02:48:03.913466Z",
     "start_time": "2019-04-13T02:48:01.067943Z"
    }
   },
   "outputs": [
    {
     "data": {
      "image/png": "[encoded data removed]",
      "text/plain": [
       "<Figure size 1440x1296 with 1 Axes>"
      ]
     },
     "metadata": {},
     "output_type": "display_data"
    }
   ],
   "source": [
    "fig, ax = plt.subplots(figsize=(20,18))\n",
    "for i, row in usa.iterrows():\n",
    "    if row.state_abbr not in (['HI', 'AK']):\n",
    "        usa[usa.state_abbr == row.state_abbr].plot(ax=ax, color=row.color, edgecolor='y')"
   ]
  },
  {
   "cell_type": "markdown",
   "metadata": {},
   "source": [
    "### Q: Do data scientists get higher wages compared to general data jobs?\n",
    "- we compare the prevailing wages for applications for all data jobs vs those for data science.\n",
    "- Just by eyeballing the distributions one can tell that prevailing wages for data science job tends to be higher than those of general data jobs.\n",
    "- Looking at the descriptive statistics we see that the mean and the median for data science jobs are > $20k higher than those for general data jobs."
   ]
  },
  {
   "cell_type": "code",
   "execution_count": 49,
   "metadata": {
    "ExecuteTime": {
     "end_time": "2019-04-13T02:48:04.678160Z",
     "start_time": "2019-04-13T02:48:03.915549Z"
    }
   },
   "outputs": [
    {
     "name": "stderr",
     "output_type": "stream",
     "text": [
      "/Users/dileepkini/miniconda3/envs/pt36/lib/python3.6/site-packages/matplotlib/figure.py:2369: UserWarning: This figure includes Axes that are not compatible with tight_layout, so results might be incorrect.\n",
      "  warnings.warn(\"This figure includes Axes that are not compatible \"\n"
     ]
    },
    {
     "data": {
      "image/png": "[encoded data removed]",
      "text/plain": [
       "<Figure size 1080x360 with 2 Axes>"
      ]
     },
     "metadata": {},
     "output_type": "display_data"
    }
   ],
   "source": [
    "fig, axs = plt.subplots(1, 2, sharey=False, tight_layout=True, figsize=(15,5))\n",
    "axs[0].set_title('Data Science')\n",
    "axs[0].hist(df[df['is_data_science']].PREVAILING_WAGE.values, bins=30);\n",
    "axs[1].set_title('All Data')\n",
    "axs[1].hist(df[df['is_data_related']].PREVAILING_WAGE.values, bins=30);"
   ]
  },
  {
   "cell_type": "code",
   "execution_count": 50,
   "metadata": {
    "ExecuteTime": {
     "end_time": "2019-04-13T02:48:04.705297Z",
     "start_time": "2019-04-13T02:48:04.682013Z"
    }
   },
   "outputs": [
    {
     "data": {
      "text/plain": [
       "count     3369.00\n",
       "mean     91121.77\n",
       "std      26118.50\n",
       "min      29973.00\n",
       "25%      70970.00\n",
       "50%      89440.00\n",
       "75%     108534.00\n",
       "max     214864.00\n",
       "Name: PREVAILING_WAGE, dtype: float64"
      ]
     },
     "execution_count": 50,
     "metadata": {},
     "output_type": "execute_result"
    }
   ],
   "source": [
    "df[df['is_data_science']].PREVAILING_WAGE.describe()"
   ]
  },
  {
   "cell_type": "code",
   "execution_count": 51,
   "metadata": {
    "ExecuteTime": {
     "end_time": "2019-04-13T02:48:04.794253Z",
     "start_time": "2019-04-13T02:48:04.708072Z"
    }
   },
   "outputs": [
    {
     "data": {
      "text/plain": [
       "count    62769.00\n",
       "mean     70390.98\n",
       "std      20434.86\n",
       "min      18054.00\n",
       "25%      56014.00\n",
       "50%      65915.00\n",
       "75%      80900.00\n",
       "max     214864.00\n",
       "Name: PREVAILING_WAGE, dtype: float64"
      ]
     },
     "execution_count": 51,
     "metadata": {},
     "output_type": "execute_result"
    }
   ],
   "source": [
    "df[df['is_data_related']].PREVAILING_WAGE.describe()"
   ]
  },
  {
   "cell_type": "code",
   "execution_count": null,
   "metadata": {
    "collapsed": true
   },
   "outputs": [],
   "source": []
  },
  {
   "cell_type": "code",
   "execution_count": null,
   "metadata": {
    "collapsed": true
   },
   "outputs": [],
   "source": []
  },
  {
   "cell_type": "code",
   "execution_count": null,
   "metadata": {
    "collapsed": true
   },
   "outputs": [],
   "source": []
  },
  {
   "cell_type": "code",
   "execution_count": null,
   "metadata": {
    "collapsed": true
   },
   "outputs": [],
   "source": []
  }
 ],
 "metadata": {
  "kernelspec": {
   "display_name": "Python [conda env:pt36]",
   "language": "python",
   "name": "conda-env-pt36-py"
  },
  "language_info": {
   "codemirror_mode": {
    "name": "ipython",
    "version": 3
   },
   "file_extension": ".py",
   "mimetype": "text/x-python",
   "name": "python",
   "nbconvert_exporter": "python",
   "pygments_lexer": "ipython3",
   "version": "3.6.8"
  }
 },
 "nbformat": 4,
 "nbformat_minor": 2
}
